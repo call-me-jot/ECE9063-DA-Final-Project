{
 "cells": [
  {
   "cell_type": "code",
   "execution_count": 1,
   "metadata": {
    "id": "jP5XSqL253YX"
   },
   "outputs": [],
   "source": [
    "# pip install optuna"
   ]
  },
  {
   "cell_type": "code",
   "execution_count": 2,
   "metadata": {
    "id": "_dXFalNe6FDp"
   },
   "outputs": [],
   "source": [
    "# pip install optuna-integration[tfkeras]"
   ]
  },
  {
   "cell_type": "code",
   "execution_count": 3,
   "metadata": {
    "id": "Q1U4me8B47n9"
   },
   "outputs": [],
   "source": [
    "import pandas as pd\n",
    "import numpy as np\n",
    "import matplotlib.pyplot as plt\n",
    "import seaborn as sns\n",
    "import statsmodels.api as sm\n",
    "import re\n",
    "import spacy\n",
    "import nltk\n",
    "# import torch\n",
    "import optuna\n",
    "from nltk.corpus import stopwords\n",
    "from nltk.stem import WordNetLemmatizer\n",
    "from sklearn.utils import resample\n",
    "from sklearn.metrics import classification_report, confusion_matrix, roc_curve, auc, precision_recall_fscore_support, accuracy_score, precision_score, recall_score, f1_score\n",
    "from sklearn.preprocessing import LabelEncoder, StandardScaler\n",
    "from sklearn.model_selection import train_test_split\n",
    "from sklearn.feature_extraction.text import CountVectorizer\n",
    "from tensorflow.keras.preprocessing.text import Tokenizer\n",
    "from tensorflow.keras.preprocessing.sequence import pad_sequences\n",
    "from tensorflow.keras.models import Sequential, Model\n",
    "from tensorflow.keras.layers import Embedding, LSTM, Dense, Dropout, Input, Concatenate\n",
    "from tensorflow.keras.callbacks import EarlyStopping\n",
    "from tensorflow.keras.utils import to_categorical\n",
    "from tensorflow.keras.optimizers import Adam\n",
    "# from transformers import DistilBertTokenizer, DistilBertForSequenceClassification\n",
    "from optuna.integration import TFKerasPruningCallback\n",
    "from optuna.samplers import TPESampler\n",
    "\n",
    "# !pip install transformers torch pandas scikit-learn"
   ]
  },
  {
   "cell_type": "markdown",
   "metadata": {
    "id": "AoL-cO_Q47oA"
   },
   "source": [
    "Reading the Dataframe"
   ]
  },
  {
   "cell_type": "code",
   "execution_count": 4,
   "metadata": {
    "colab": {
     "base_uri": "https://localhost:8080/",
     "height": 660
    },
    "id": "8hNwK_2x47oC",
    "outputId": "fe97f7e8-34d3-46d0-eea5-443d1c4f1022"
   },
   "outputs": [
    {
     "data": {
      "text/html": [
       "<div>\n",
       "<style scoped>\n",
       "    .dataframe tbody tr th:only-of-type {\n",
       "        vertical-align: middle;\n",
       "    }\n",
       "\n",
       "    .dataframe tbody tr th {\n",
       "        vertical-align: top;\n",
       "    }\n",
       "\n",
       "    .dataframe thead th {\n",
       "        text-align: right;\n",
       "    }\n",
       "</style>\n",
       "<table border=\"1\" class=\"dataframe\">\n",
       "  <thead>\n",
       "    <tr style=\"text-align: right;\">\n",
       "      <th></th>\n",
       "      <th>bathrooms</th>\n",
       "      <th>bedrooms</th>\n",
       "      <th>building_id</th>\n",
       "      <th>created</th>\n",
       "      <th>description</th>\n",
       "      <th>display_address</th>\n",
       "      <th>features</th>\n",
       "      <th>latitude</th>\n",
       "      <th>listing_id</th>\n",
       "      <th>longitude</th>\n",
       "      <th>manager_id</th>\n",
       "      <th>photos</th>\n",
       "      <th>price</th>\n",
       "      <th>street_address</th>\n",
       "      <th>interest_level</th>\n",
       "    </tr>\n",
       "  </thead>\n",
       "  <tbody>\n",
       "    <tr>\n",
       "      <th>4</th>\n",
       "      <td>1.0</td>\n",
       "      <td>1</td>\n",
       "      <td>8579a0b0d54db803821a35a4a615e97a</td>\n",
       "      <td>2016-06-16 05:55:27</td>\n",
       "      <td>Spacious 1 Bedroom 1 Bathroom in Williamsburg!...</td>\n",
       "      <td>145 Borinquen Place</td>\n",
       "      <td>[Dining Room, Pre-War, Laundry in Building, Di...</td>\n",
       "      <td>40.7108</td>\n",
       "      <td>7170325</td>\n",
       "      <td>-73.9539</td>\n",
       "      <td>a10db4590843d78c784171a107bdacb4</td>\n",
       "      <td>[https://photos.renthop.com/2/7170325_3bb5ac84...</td>\n",
       "      <td>2400</td>\n",
       "      <td>145 Borinquen Place</td>\n",
       "      <td>medium</td>\n",
       "    </tr>\n",
       "    <tr>\n",
       "      <th>6</th>\n",
       "      <td>1.0</td>\n",
       "      <td>2</td>\n",
       "      <td>b8e75fc949a6cd8225b455648a951712</td>\n",
       "      <td>2016-06-01 05:44:33</td>\n",
       "      <td>BRAND NEW GUT RENOVATED TRUE 2 BEDROOMFind you...</td>\n",
       "      <td>East 44th</td>\n",
       "      <td>[Doorman, Elevator, Laundry in Building, Dishw...</td>\n",
       "      <td>40.7513</td>\n",
       "      <td>7092344</td>\n",
       "      <td>-73.9722</td>\n",
       "      <td>955db33477af4f40004820b4aed804a0</td>\n",
       "      <td>[https://photos.renthop.com/2/7092344_7663c19a...</td>\n",
       "      <td>3800</td>\n",
       "      <td>230 East 44th</td>\n",
       "      <td>low</td>\n",
       "    </tr>\n",
       "    <tr>\n",
       "      <th>9</th>\n",
       "      <td>1.0</td>\n",
       "      <td>2</td>\n",
       "      <td>cd759a988b8f23924b5a2058d5ab2b49</td>\n",
       "      <td>2016-06-14 15:19:59</td>\n",
       "      <td>**FLEX 2 BEDROOM WITH FULL PRESSURIZED WALL**L...</td>\n",
       "      <td>East 56th Street</td>\n",
       "      <td>[Doorman, Elevator, Laundry in Building, Laund...</td>\n",
       "      <td>40.7575</td>\n",
       "      <td>7158677</td>\n",
       "      <td>-73.9625</td>\n",
       "      <td>c8b10a317b766204f08e613cef4ce7a0</td>\n",
       "      <td>[https://photos.renthop.com/2/7158677_c897a134...</td>\n",
       "      <td>3495</td>\n",
       "      <td>405 East 56th Street</td>\n",
       "      <td>medium</td>\n",
       "    </tr>\n",
       "    <tr>\n",
       "      <th>10</th>\n",
       "      <td>1.5</td>\n",
       "      <td>3</td>\n",
       "      <td>53a5b119ba8f7b61d4e010512e0dfc85</td>\n",
       "      <td>2016-06-24 07:54:24</td>\n",
       "      <td>A Brand New 3 Bedroom 1.5 bath ApartmentEnjoy ...</td>\n",
       "      <td>Metropolitan Avenue</td>\n",
       "      <td>[]</td>\n",
       "      <td>40.7145</td>\n",
       "      <td>7211212</td>\n",
       "      <td>-73.9425</td>\n",
       "      <td>5ba989232d0489da1b5f2c45f6688adc</td>\n",
       "      <td>[https://photos.renthop.com/2/7211212_1ed4542e...</td>\n",
       "      <td>3000</td>\n",
       "      <td>792 Metropolitan Avenue</td>\n",
       "      <td>medium</td>\n",
       "    </tr>\n",
       "    <tr>\n",
       "      <th>15</th>\n",
       "      <td>1.0</td>\n",
       "      <td>0</td>\n",
       "      <td>bfb9405149bfff42a92980b594c28234</td>\n",
       "      <td>2016-06-28 03:50:23</td>\n",
       "      <td>Over-sized Studio w abundant closets. Availabl...</td>\n",
       "      <td>East 34th Street</td>\n",
       "      <td>[Doorman, Elevator, Fitness Center, Laundry in...</td>\n",
       "      <td>40.7439</td>\n",
       "      <td>7225292</td>\n",
       "      <td>-73.9743</td>\n",
       "      <td>2c3b41f588fbb5234d8a1e885a436cfa</td>\n",
       "      <td>[https://photos.renthop.com/2/7225292_901f1984...</td>\n",
       "      <td>2795</td>\n",
       "      <td>340 East 34th Street</td>\n",
       "      <td>low</td>\n",
       "    </tr>\n",
       "  </tbody>\n",
       "</table>\n",
       "</div>"
      ],
      "text/plain": [
       "    bathrooms  bedrooms                       building_id  \\\n",
       "4         1.0         1  8579a0b0d54db803821a35a4a615e97a   \n",
       "6         1.0         2  b8e75fc949a6cd8225b455648a951712   \n",
       "9         1.0         2  cd759a988b8f23924b5a2058d5ab2b49   \n",
       "10        1.5         3  53a5b119ba8f7b61d4e010512e0dfc85   \n",
       "15        1.0         0  bfb9405149bfff42a92980b594c28234   \n",
       "\n",
       "                created                                        description  \\\n",
       "4   2016-06-16 05:55:27  Spacious 1 Bedroom 1 Bathroom in Williamsburg!...   \n",
       "6   2016-06-01 05:44:33  BRAND NEW GUT RENOVATED TRUE 2 BEDROOMFind you...   \n",
       "9   2016-06-14 15:19:59  **FLEX 2 BEDROOM WITH FULL PRESSURIZED WALL**L...   \n",
       "10  2016-06-24 07:54:24  A Brand New 3 Bedroom 1.5 bath ApartmentEnjoy ...   \n",
       "15  2016-06-28 03:50:23  Over-sized Studio w abundant closets. Availabl...   \n",
       "\n",
       "        display_address                                           features  \\\n",
       "4   145 Borinquen Place  [Dining Room, Pre-War, Laundry in Building, Di...   \n",
       "6             East 44th  [Doorman, Elevator, Laundry in Building, Dishw...   \n",
       "9      East 56th Street  [Doorman, Elevator, Laundry in Building, Laund...   \n",
       "10  Metropolitan Avenue                                                 []   \n",
       "15     East 34th Street  [Doorman, Elevator, Fitness Center, Laundry in...   \n",
       "\n",
       "    latitude  listing_id  longitude                        manager_id  \\\n",
       "4    40.7108     7170325   -73.9539  a10db4590843d78c784171a107bdacb4   \n",
       "6    40.7513     7092344   -73.9722  955db33477af4f40004820b4aed804a0   \n",
       "9    40.7575     7158677   -73.9625  c8b10a317b766204f08e613cef4ce7a0   \n",
       "10   40.7145     7211212   -73.9425  5ba989232d0489da1b5f2c45f6688adc   \n",
       "15   40.7439     7225292   -73.9743  2c3b41f588fbb5234d8a1e885a436cfa   \n",
       "\n",
       "                                               photos  price  \\\n",
       "4   [https://photos.renthop.com/2/7170325_3bb5ac84...   2400   \n",
       "6   [https://photos.renthop.com/2/7092344_7663c19a...   3800   \n",
       "9   [https://photos.renthop.com/2/7158677_c897a134...   3495   \n",
       "10  [https://photos.renthop.com/2/7211212_1ed4542e...   3000   \n",
       "15  [https://photos.renthop.com/2/7225292_901f1984...   2795   \n",
       "\n",
       "             street_address interest_level  \n",
       "4       145 Borinquen Place         medium  \n",
       "6             230 East 44th            low  \n",
       "9      405 East 56th Street         medium  \n",
       "10  792 Metropolitan Avenue         medium  \n",
       "15     340 East 34th Street            low  "
      ]
     },
     "execution_count": 4,
     "metadata": {},
     "output_type": "execute_result"
    }
   ],
   "source": [
    "df = pd.read_json(\"train.json\")\n",
    "df.head(5)"
   ]
  },
  {
   "cell_type": "markdown",
   "metadata": {
    "id": "li_OADMl47oE"
   },
   "source": [
    "Preprocessing the dataframe"
   ]
  },
  {
   "cell_type": "code",
   "execution_count": 5,
   "metadata": {
    "id": "Hf1RjwmO47oE"
   },
   "outputs": [],
   "source": [
    "#Removal of outlier\n",
    "upper_bound = np.percentile(df[\"price\"].values, 99.9)\n",
    "df_filtered = df[df[\"price\"] <= upper_bound]"
   ]
  },
  {
   "cell_type": "code",
   "execution_count": null,
   "metadata": {
    "colab": {
     "base_uri": "https://localhost:8080/"
    },
    "id": "0Is-hTlJ47oF",
    "outputId": "33235696-39b3-4493-af73-59f6387e9e45"
   },
   "outputs": [
    {
     "name": "stderr",
     "output_type": "stream",
     "text": [
      "C:\\Users\\MITALI\\AppData\\Local\\Temp\\ipykernel_2592\\1629276100.py:2: SettingWithCopyWarning: \n",
      "A value is trying to be set on a copy of a slice from a DataFrame.\n",
      "Try using .loc[row_indexer,col_indexer] = value instead\n",
      "\n",
      "See the caveats in the documentation: https://pandas.pydata.org/pandas-docs/stable/user_guide/indexing.html#returning-a-view-versus-a-copy\n",
      "  df_filtered['created'] = pd.to_datetime(df_filtered['created'])\n",
      "C:\\Users\\MITALI\\AppData\\Local\\Temp\\ipykernel_2592\\1629276100.py:5: SettingWithCopyWarning: \n",
      "A value is trying to be set on a copy of a slice from a DataFrame.\n",
      "Try using .loc[row_indexer,col_indexer] = value instead\n",
      "\n",
      "See the caveats in the documentation: https://pandas.pydata.org/pandas-docs/stable/user_guide/indexing.html#returning-a-view-versus-a-copy\n",
      "  df_filtered['year'] = df_filtered['created'].dt.year\n",
      "C:\\Users\\MITALI\\AppData\\Local\\Temp\\ipykernel_2592\\1629276100.py:6: SettingWithCopyWarning: \n",
      "A value is trying to be set on a copy of a slice from a DataFrame.\n",
      "Try using .loc[row_indexer,col_indexer] = value instead\n",
      "\n",
      "See the caveats in the documentation: https://pandas.pydata.org/pandas-docs/stable/user_guide/indexing.html#returning-a-view-versus-a-copy\n",
      "  df_filtered['month'] = df_filtered['created'].dt.month\n",
      "C:\\Users\\MITALI\\AppData\\Local\\Temp\\ipykernel_2592\\1629276100.py:7: SettingWithCopyWarning: \n",
      "A value is trying to be set on a copy of a slice from a DataFrame.\n",
      "Try using .loc[row_indexer,col_indexer] = value instead\n",
      "\n",
      "See the caveats in the documentation: https://pandas.pydata.org/pandas-docs/stable/user_guide/indexing.html#returning-a-view-versus-a-copy\n",
      "  df_filtered['day'] = df_filtered['created'].dt.day\n",
      "C:\\Users\\MITALI\\AppData\\Local\\Temp\\ipykernel_2592\\1629276100.py:8: SettingWithCopyWarning: \n",
      "A value is trying to be set on a copy of a slice from a DataFrame.\n",
      "Try using .loc[row_indexer,col_indexer] = value instead\n",
      "\n",
      "See the caveats in the documentation: https://pandas.pydata.org/pandas-docs/stable/user_guide/indexing.html#returning-a-view-versus-a-copy\n",
      "  df_filtered['hour'] = df_filtered['created'].dt.hour\n",
      "C:\\Users\\MITALI\\AppData\\Local\\Temp\\ipykernel_2592\\1629276100.py:9: SettingWithCopyWarning: \n",
      "A value is trying to be set on a copy of a slice from a DataFrame.\n",
      "Try using .loc[row_indexer,col_indexer] = value instead\n",
      "\n",
      "See the caveats in the documentation: https://pandas.pydata.org/pandas-docs/stable/user_guide/indexing.html#returning-a-view-versus-a-copy\n",
      "  df_filtered['minute'] = df_filtered['created'].dt.minute\n",
      "C:\\Users\\MITALI\\AppData\\Local\\Temp\\ipykernel_2592\\1629276100.py:10: SettingWithCopyWarning: \n",
      "A value is trying to be set on a copy of a slice from a DataFrame.\n",
      "Try using .loc[row_indexer,col_indexer] = value instead\n",
      "\n",
      "See the caveats in the documentation: https://pandas.pydata.org/pandas-docs/stable/user_guide/indexing.html#returning-a-view-versus-a-copy\n",
      "  df_filtered['second'] = df_filtered['created'].dt.second\n",
      "C:\\Users\\MITALI\\AppData\\Local\\Temp\\ipykernel_2592\\1629276100.py:13: SettingWithCopyWarning: \n",
      "A value is trying to be set on a copy of a slice from a DataFrame\n",
      "\n",
      "See the caveats in the documentation: https://pandas.pydata.org/pandas-docs/stable/user_guide/indexing.html#returning-a-view-versus-a-copy\n",
      "  df_filtered.drop(columns=['created'], inplace=True)\n",
      "C:\\Users\\MITALI\\AppData\\Local\\Temp\\ipykernel_2592\\1629276100.py:14: SettingWithCopyWarning: \n",
      "A value is trying to be set on a copy of a slice from a DataFrame\n",
      "\n",
      "See the caveats in the documentation: https://pandas.pydata.org/pandas-docs/stable/user_guide/indexing.html#returning-a-view-versus-a-copy\n",
      "  df_filtered.drop(columns=['manager_id'], inplace=True)\n",
      "C:\\Users\\MITALI\\AppData\\Local\\Temp\\ipykernel_2592\\1629276100.py:18: SettingWithCopyWarning: \n",
      "A value is trying to be set on a copy of a slice from a DataFrame.\n",
      "Try using .loc[row_indexer,col_indexer] = value instead\n",
      "\n",
      "See the caveats in the documentation: https://pandas.pydata.org/pandas-docs/stable/user_guide/indexing.html#returning-a-view-versus-a-copy\n",
      "  df_filtered['features_count'] = df_filtered['features'].apply(lambda x: len(eval(x)) if isinstance(x, str) else 0)\n",
      "C:\\Users\\MITALI\\AppData\\Local\\Temp\\ipykernel_2592\\1629276100.py:21: SettingWithCopyWarning: \n",
      "A value is trying to be set on a copy of a slice from a DataFrame.\n",
      "Try using .loc[row_indexer,col_indexer] = value instead\n",
      "\n",
      "See the caveats in the documentation: https://pandas.pydata.org/pandas-docs/stable/user_guide/indexing.html#returning-a-view-versus-a-copy\n",
      "  df_filtered['photos_count'] = df_filtered['photos'].apply(lambda x: len(eval(x)) if isinstance(x, str) else 0)\n",
      "C:\\Users\\MITALI\\AppData\\Local\\Temp\\ipykernel_2592\\1629276100.py:25: SettingWithCopyWarning: \n",
      "A value is trying to be set on a copy of a slice from a DataFrame\n",
      "\n",
      "See the caveats in the documentation: https://pandas.pydata.org/pandas-docs/stable/user_guide/indexing.html#returning-a-view-versus-a-copy\n",
      "  df_filtered.drop(columns=['photos'], inplace=True)\n"
     ]
    }
   ],
   "source": [
    "# Step 2: Convert 'created' column to datetime format\n",
    "df_filtered['created'] = pd.to_datetime(df_filtered['created'])\n",
    "\n",
    "# Step 3: Extract useful components from the 'created' column\n",
    "df_filtered['year'] = df_filtered['created'].dt.year\n",
    "df_filtered['month'] = df_filtered['created'].dt.month\n",
    "df_filtered['day'] = df_filtered['created'].dt.day\n",
    "df_filtered['hour'] = df_filtered['created'].dt.hour\n",
    "df_filtered['minute'] = df_filtered['created'].dt.minute\n",
    "df_filtered['second'] = df_filtered['created'].dt.second\n",
    "\n",
    "# Drop the original 'created' column as it's no longer needed\n",
    "df_filtered.drop(columns=['created'], inplace=True)\n",
    "df_filtered.drop(columns=['manager_id'], inplace=True)\n",
    "\n",
    "# Step 4: Process list columns ('features' and 'photos')\n",
    "# For 'features' column: Count the number of features in the list\n",
    "df_filtered['features_count'] = df_filtered['features'].apply(lambda x: len(eval(x)) if isinstance(x, str) else 0)\n",
    "\n",
    "# For 'photos' column: Count the number of photos in the list\n",
    "df_filtered['photos_count'] = df_filtered['photos'].apply(lambda x: len(eval(x)) if isinstance(x, str) else 0)\n",
    "\n",
    "# Drop original 'features' and 'photos' columns\n",
    "# df_filtered.drop(columns=['features', 'photos'], inplace=True)\n",
    "df_filtered.drop(columns=['photos'], inplace=True)"
   ]
  },
  {
   "cell_type": "code",
   "execution_count": null,
   "metadata": {
    "colab": {
     "base_uri": "https://localhost:8080/",
     "height": 897
    },
    "id": "I8Bk6x2b47oG",
    "outputId": "4d8f5ab7-e9c5-45e7-dea4-ad5e1beba9a7"
   },
   "outputs": [
    {
     "name": "stderr",
     "output_type": "stream",
     "text": [
      "C:\\Users\\MITALI\\AppData\\Local\\Temp\\ipykernel_2592\\490976259.py:4: SettingWithCopyWarning: \n",
      "A value is trying to be set on a copy of a slice from a DataFrame.\n",
      "Try using .loc[row_indexer,col_indexer] = value instead\n",
      "\n",
      "See the caveats in the documentation: https://pandas.pydata.org/pandas-docs/stable/user_guide/indexing.html#returning-a-view-versus-a-copy\n",
      "  df_filtered['interest_level_encoded'] = label_encoder.fit_transform(df_filtered['interest_level'])\n",
      "C:\\Users\\MITALI\\AppData\\Local\\Temp\\ipykernel_2592\\490976259.py:12: SettingWithCopyWarning: \n",
      "A value is trying to be set on a copy of a slice from a DataFrame.\n",
      "Try using .loc[row_indexer,col_indexer] = value instead\n",
      "\n",
      "See the caveats in the documentation: https://pandas.pydata.org/pandas-docs/stable/user_guide/indexing.html#returning-a-view-versus-a-copy\n",
      "  df_filtered[f'{feature}_encoded'] = label_encoder.fit_transform(df_filtered[feature])\n"
     ]
    },
    {
     "data": {
      "text/html": [
       "<div>\n",
       "<style scoped>\n",
       "    .dataframe tbody tr th:only-of-type {\n",
       "        vertical-align: middle;\n",
       "    }\n",
       "\n",
       "    .dataframe tbody tr th {\n",
       "        vertical-align: top;\n",
       "    }\n",
       "\n",
       "    .dataframe thead th {\n",
       "        text-align: right;\n",
       "    }\n",
       "</style>\n",
       "<table border=\"1\" class=\"dataframe\">\n",
       "  <thead>\n",
       "    <tr style=\"text-align: right;\">\n",
       "      <th></th>\n",
       "      <th>bathrooms</th>\n",
       "      <th>bedrooms</th>\n",
       "      <th>building_id</th>\n",
       "      <th>description</th>\n",
       "      <th>display_address</th>\n",
       "      <th>features</th>\n",
       "      <th>latitude</th>\n",
       "      <th>listing_id</th>\n",
       "      <th>longitude</th>\n",
       "      <th>price</th>\n",
       "      <th>...</th>\n",
       "      <th>year</th>\n",
       "      <th>month</th>\n",
       "      <th>day</th>\n",
       "      <th>hour</th>\n",
       "      <th>minute</th>\n",
       "      <th>second</th>\n",
       "      <th>features_count</th>\n",
       "      <th>photos_count</th>\n",
       "      <th>interest_level_encoded</th>\n",
       "      <th>building_id_encoded</th>\n",
       "    </tr>\n",
       "  </thead>\n",
       "  <tbody>\n",
       "    <tr>\n",
       "      <th>4</th>\n",
       "      <td>1.0</td>\n",
       "      <td>1</td>\n",
       "      <td>8579a0b0d54db803821a35a4a615e97a</td>\n",
       "      <td>Spacious 1 Bedroom 1 Bathroom in Williamsburg!...</td>\n",
       "      <td>145 Borinquen Place</td>\n",
       "      <td>[Dining Room, Pre-War, Laundry in Building, Di...</td>\n",
       "      <td>40.7108</td>\n",
       "      <td>7170325</td>\n",
       "      <td>-73.9539</td>\n",
       "      <td>2400</td>\n",
       "      <td>...</td>\n",
       "      <td>2016</td>\n",
       "      <td>6</td>\n",
       "      <td>16</td>\n",
       "      <td>5</td>\n",
       "      <td>55</td>\n",
       "      <td>27</td>\n",
       "      <td>0</td>\n",
       "      <td>0</td>\n",
       "      <td>2</td>\n",
       "      <td>3934</td>\n",
       "    </tr>\n",
       "    <tr>\n",
       "      <th>6</th>\n",
       "      <td>1.0</td>\n",
       "      <td>2</td>\n",
       "      <td>b8e75fc949a6cd8225b455648a951712</td>\n",
       "      <td>BRAND NEW GUT RENOVATED TRUE 2 BEDROOMFind you...</td>\n",
       "      <td>East 44th</td>\n",
       "      <td>[Doorman, Elevator, Laundry in Building, Dishw...</td>\n",
       "      <td>40.7513</td>\n",
       "      <td>7092344</td>\n",
       "      <td>-73.9722</td>\n",
       "      <td>3800</td>\n",
       "      <td>...</td>\n",
       "      <td>2016</td>\n",
       "      <td>6</td>\n",
       "      <td>1</td>\n",
       "      <td>5</td>\n",
       "      <td>44</td>\n",
       "      <td>33</td>\n",
       "      <td>0</td>\n",
       "      <td>0</td>\n",
       "      <td>1</td>\n",
       "      <td>5486</td>\n",
       "    </tr>\n",
       "    <tr>\n",
       "      <th>9</th>\n",
       "      <td>1.0</td>\n",
       "      <td>2</td>\n",
       "      <td>cd759a988b8f23924b5a2058d5ab2b49</td>\n",
       "      <td>**FLEX 2 BEDROOM WITH FULL PRESSURIZED WALL**L...</td>\n",
       "      <td>East 56th Street</td>\n",
       "      <td>[Doorman, Elevator, Laundry in Building, Laund...</td>\n",
       "      <td>40.7575</td>\n",
       "      <td>7158677</td>\n",
       "      <td>-73.9625</td>\n",
       "      <td>3495</td>\n",
       "      <td>...</td>\n",
       "      <td>2016</td>\n",
       "      <td>6</td>\n",
       "      <td>14</td>\n",
       "      <td>15</td>\n",
       "      <td>19</td>\n",
       "      <td>59</td>\n",
       "      <td>0</td>\n",
       "      <td>0</td>\n",
       "      <td>2</td>\n",
       "      <td>6086</td>\n",
       "    </tr>\n",
       "    <tr>\n",
       "      <th>10</th>\n",
       "      <td>1.5</td>\n",
       "      <td>3</td>\n",
       "      <td>53a5b119ba8f7b61d4e010512e0dfc85</td>\n",
       "      <td>A Brand New 3 Bedroom 1.5 bath ApartmentEnjoy ...</td>\n",
       "      <td>Metropolitan Avenue</td>\n",
       "      <td>[]</td>\n",
       "      <td>40.7145</td>\n",
       "      <td>7211212</td>\n",
       "      <td>-73.9425</td>\n",
       "      <td>3000</td>\n",
       "      <td>...</td>\n",
       "      <td>2016</td>\n",
       "      <td>6</td>\n",
       "      <td>24</td>\n",
       "      <td>7</td>\n",
       "      <td>54</td>\n",
       "      <td>24</td>\n",
       "      <td>0</td>\n",
       "      <td>0</td>\n",
       "      <td>2</td>\n",
       "      <td>2427</td>\n",
       "    </tr>\n",
       "    <tr>\n",
       "      <th>15</th>\n",
       "      <td>1.0</td>\n",
       "      <td>0</td>\n",
       "      <td>bfb9405149bfff42a92980b594c28234</td>\n",
       "      <td>Over-sized Studio w abundant closets. Availabl...</td>\n",
       "      <td>East 34th Street</td>\n",
       "      <td>[Doorman, Elevator, Fitness Center, Laundry in...</td>\n",
       "      <td>40.7439</td>\n",
       "      <td>7225292</td>\n",
       "      <td>-73.9743</td>\n",
       "      <td>2795</td>\n",
       "      <td>...</td>\n",
       "      <td>2016</td>\n",
       "      <td>6</td>\n",
       "      <td>28</td>\n",
       "      <td>3</td>\n",
       "      <td>50</td>\n",
       "      <td>23</td>\n",
       "      <td>0</td>\n",
       "      <td>0</td>\n",
       "      <td>1</td>\n",
       "      <td>5681</td>\n",
       "    </tr>\n",
       "  </tbody>\n",
       "</table>\n",
       "<p>5 rows × 22 columns</p>\n",
       "</div>"
      ],
      "text/plain": [
       "    bathrooms  bedrooms                       building_id  \\\n",
       "4         1.0         1  8579a0b0d54db803821a35a4a615e97a   \n",
       "6         1.0         2  b8e75fc949a6cd8225b455648a951712   \n",
       "9         1.0         2  cd759a988b8f23924b5a2058d5ab2b49   \n",
       "10        1.5         3  53a5b119ba8f7b61d4e010512e0dfc85   \n",
       "15        1.0         0  bfb9405149bfff42a92980b594c28234   \n",
       "\n",
       "                                          description      display_address  \\\n",
       "4   Spacious 1 Bedroom 1 Bathroom in Williamsburg!...  145 Borinquen Place   \n",
       "6   BRAND NEW GUT RENOVATED TRUE 2 BEDROOMFind you...            East 44th   \n",
       "9   **FLEX 2 BEDROOM WITH FULL PRESSURIZED WALL**L...     East 56th Street   \n",
       "10  A Brand New 3 Bedroom 1.5 bath ApartmentEnjoy ...  Metropolitan Avenue   \n",
       "15  Over-sized Studio w abundant closets. Availabl...     East 34th Street   \n",
       "\n",
       "                                             features  latitude  listing_id  \\\n",
       "4   [Dining Room, Pre-War, Laundry in Building, Di...   40.7108     7170325   \n",
       "6   [Doorman, Elevator, Laundry in Building, Dishw...   40.7513     7092344   \n",
       "9   [Doorman, Elevator, Laundry in Building, Laund...   40.7575     7158677   \n",
       "10                                                 []   40.7145     7211212   \n",
       "15  [Doorman, Elevator, Fitness Center, Laundry in...   40.7439     7225292   \n",
       "\n",
       "    longitude  price  ...  year month  day  hour  minute  second  \\\n",
       "4    -73.9539   2400  ...  2016     6   16     5      55      27   \n",
       "6    -73.9722   3800  ...  2016     6    1     5      44      33   \n",
       "9    -73.9625   3495  ...  2016     6   14    15      19      59   \n",
       "10   -73.9425   3000  ...  2016     6   24     7      54      24   \n",
       "15   -73.9743   2795  ...  2016     6   28     3      50      23   \n",
       "\n",
       "    features_count  photos_count  interest_level_encoded  building_id_encoded  \n",
       "4                0             0                       2                 3934  \n",
       "6                0             0                       1                 5486  \n",
       "9                0             0                       2                 6086  \n",
       "10               0             0                       2                 2427  \n",
       "15               0             0                       1                 5681  \n",
       "\n",
       "[5 rows x 22 columns]"
      ]
     },
     "execution_count": 9,
     "metadata": {},
     "output_type": "execute_result"
    }
   ],
   "source": [
    "# Encode target variable into numerical values\n",
    "label_encoder = LabelEncoder()\n",
    "\n",
    "df_filtered['interest_level_encoded'] = label_encoder.fit_transform(df_filtered['interest_level'])\n",
    "\n",
    "# Label Encoding for categorical variables\n",
    "categorical_features = ['building_id']\n",
    "for feature in categorical_features:\n",
    "    df_filtered[f'{feature}_encoded'] = label_encoder.fit_transform(df_filtered[feature])\n",
    "df_filtered.head()"
   ]
  },
  {
   "cell_type": "markdown",
   "metadata": {
    "id": "5MJ_RCMM47oH"
   },
   "source": [
    "Creating the correlation matrix"
   ]
  },
  {
   "cell_type": "code",
   "execution_count": 11,
   "metadata": {
    "colab": {
     "base_uri": "https://localhost:8080/"
    },
    "id": "Kis_j7U947oH",
    "outputId": "3410cc22-df23-47c6-909c-d80a99eefce2"
   },
   "outputs": [
    {
     "name": "stdout",
     "output_type": "stream",
     "text": [
      "Index(['bathrooms', 'bedrooms', 'building_id', 'description',\n",
      "       'display_address', 'features', 'latitude', 'listing_id', 'longitude',\n",
      "       'price', 'street_address', 'interest_level', 'year', 'month', 'day',\n",
      "       'hour', 'minute', 'second', 'features_count', 'photos_count',\n",
      "       'interest_level_encoded', 'building_id_encoded'],\n",
      "      dtype='object')\n"
     ]
    }
   ],
   "source": [
    "print(df_filtered.columns)"
   ]
  },
  {
   "cell_type": "code",
   "execution_count": 13,
   "metadata": {
    "colab": {
     "base_uri": "https://localhost:8080/",
     "height": 486
    },
    "id": "Y3NlfTRI47oI",
    "outputId": "c1d354eb-9fdc-4e3f-9d86-2d8fc5178970"
   },
   "outputs": [
    {
     "name": "stderr",
     "output_type": "stream",
     "text": [
      "[nltk_data] Downloading package stopwords to\n",
      "[nltk_data]     C:\\Users\\MITALI\\AppData\\Roaming\\nltk_data...\n",
      "[nltk_data]   Package stopwords is already up-to-date!\n",
      "[nltk_data] Downloading package wordnet to\n",
      "[nltk_data]     C:\\Users\\MITALI\\AppData\\Roaming\\nltk_data...\n",
      "[nltk_data]   Package wordnet is already up-to-date!\n",
      "C:\\Users\\MITALI\\AppData\\Local\\Temp\\ipykernel_2592\\3292981757.py:23: SettingWithCopyWarning: \n",
      "A value is trying to be set on a copy of a slice from a DataFrame.\n",
      "Try using .loc[row_indexer,col_indexer] = value instead\n",
      "\n",
      "See the caveats in the documentation: https://pandas.pydata.org/pandas-docs/stable/user_guide/indexing.html#returning-a-view-versus-a-copy\n",
      "  df_filtered['description_clean'] = df_filtered['description'].apply(preprocess_text)\n",
      "C:\\Users\\MITALI\\AppData\\Local\\Temp\\ipykernel_2592\\3292981757.py:27: SettingWithCopyWarning: \n",
      "A value is trying to be set on a copy of a slice from a DataFrame.\n",
      "Try using .loc[row_indexer,col_indexer] = value instead\n",
      "\n",
      "See the caveats in the documentation: https://pandas.pydata.org/pandas-docs/stable/user_guide/indexing.html#returning-a-view-versus-a-copy\n",
      "  df_filtered['features_clean'] = df_filtered['features'].apply(lambda x: ' '.join(x)).apply(preprocess_text)\n"
     ]
    },
    {
     "data": {
      "text/html": [
       "<div>\n",
       "<style scoped>\n",
       "    .dataframe tbody tr th:only-of-type {\n",
       "        vertical-align: middle;\n",
       "    }\n",
       "\n",
       "    .dataframe tbody tr th {\n",
       "        vertical-align: top;\n",
       "    }\n",
       "\n",
       "    .dataframe thead th {\n",
       "        text-align: right;\n",
       "    }\n",
       "</style>\n",
       "<table border=\"1\" class=\"dataframe\">\n",
       "  <thead>\n",
       "    <tr style=\"text-align: right;\">\n",
       "      <th></th>\n",
       "      <th>description_clean</th>\n",
       "      <th>features_clean</th>\n",
       "    </tr>\n",
       "  </thead>\n",
       "  <tbody>\n",
       "    <tr>\n",
       "      <th>4</th>\n",
       "      <td>spacious 1 bedroom 1 bathroom williamsburgapar...</td>\n",
       "      <td>dining room prewar laundry building dishwasher...</td>\n",
       "    </tr>\n",
       "    <tr>\n",
       "      <th>6</th>\n",
       "      <td>brand new gut renovated true 2 bedroomfind hom...</td>\n",
       "      <td>doorman elevator laundry building dishwasher h...</td>\n",
       "    </tr>\n",
       "    <tr>\n",
       "      <th>9</th>\n",
       "      <td>flex 2 bedroom full pressurized walllooking pe...</td>\n",
       "      <td>doorman elevator laundry building laundry unit...</td>\n",
       "    </tr>\n",
       "    <tr>\n",
       "      <th>10</th>\n",
       "      <td>brand new 3 bedroom 15 bath apartmentenjoy fol...</td>\n",
       "      <td></td>\n",
       "    </tr>\n",
       "    <tr>\n",
       "      <th>15</th>\n",
       "      <td>oversized studio w abundant closet available i...</td>\n",
       "      <td>doorman elevator fitness center laundry building</td>\n",
       "    </tr>\n",
       "  </tbody>\n",
       "</table>\n",
       "</div>"
      ],
      "text/plain": [
       "                                    description_clean  \\\n",
       "4   spacious 1 bedroom 1 bathroom williamsburgapar...   \n",
       "6   brand new gut renovated true 2 bedroomfind hom...   \n",
       "9   flex 2 bedroom full pressurized walllooking pe...   \n",
       "10  brand new 3 bedroom 15 bath apartmentenjoy fol...   \n",
       "15  oversized studio w abundant closet available i...   \n",
       "\n",
       "                                       features_clean  \n",
       "4   dining room prewar laundry building dishwasher...  \n",
       "6   doorman elevator laundry building dishwasher h...  \n",
       "9   doorman elevator laundry building laundry unit...  \n",
       "10                                                     \n",
       "15   doorman elevator fitness center laundry building  "
      ]
     },
     "execution_count": 13,
     "metadata": {},
     "output_type": "execute_result"
    }
   ],
   "source": [
    "# Ensure necessary NLTK data packages are downloaded\n",
    "nltk.download('stopwords')\n",
    "nltk.download('wordnet')\n",
    "\n",
    "# Initialize lemmatizer and stopwords\n",
    "lemmatizer = WordNetLemmatizer()\n",
    "stop_words = set(stopwords.words('english'))\n",
    "\n",
    "# Function to preprocess text\n",
    "def preprocess_text(text):\n",
    "    # Convert to lowercase\n",
    "    text = text.lower()\n",
    "    # Remove punctuation\n",
    "    text = re.sub(r'[^\\w\\s]', '', text)\n",
    "    # Tokenize\n",
    "    tokens = text.split()\n",
    "    # Remove stopwords and lemmatize\n",
    "    tokens = [lemmatizer.lemmatize(word) for word in tokens if word not in stop_words]\n",
    "    # Join back to string\n",
    "    return ' '.join(tokens)\n",
    "\n",
    "# Apply preprocessing to 'description'\n",
    "df_filtered['description_clean'] = df_filtered['description'].apply(preprocess_text)\n",
    "\n",
    "# Handle 'features' column\n",
    "# Since 'features' is a list, first convert it to a string\n",
    "df_filtered['features_clean'] = df_filtered['features'].apply(lambda x: ' '.join(x)).apply(preprocess_text)\n",
    "\n",
    "# Display the cleaned text\n",
    "df_filtered[['description_clean', 'features_clean']].head()"
   ]
  },
  {
   "cell_type": "code",
   "execution_count": 14,
   "metadata": {
    "colab": {
     "base_uri": "https://localhost:8080/"
    },
    "id": "tRAbucbU47oJ",
    "outputId": "7ff9f7db-b00a-4cbd-d198-0edb4a4080a1"
   },
   "outputs": [
    {
     "name": "stdout",
     "output_type": "stream",
     "text": [
      "Description sequences shape: (49317, 100)\n",
      "Features sequences shape: (49317, 20)\n"
     ]
    }
   ],
   "source": [
    "# Define maximum vocabulary size and sequence length for descriptions\n",
    "max_vocab_size_desc = 10000\n",
    "max_sequence_length_desc = 100\n",
    "\n",
    "# Define maximum vocabulary size and sequence length for features\n",
    "max_vocab_size_feat = 5000\n",
    "max_sequence_length_feat = 20\n",
    "\n",
    "# Initialize tokenizers\n",
    "tokenizer_desc = Tokenizer(num_words=max_vocab_size_desc, oov_token=\"<OOV>\")\n",
    "tokenizer_feat = Tokenizer(num_words=max_vocab_size_feat, oov_token=\"<OOV>\")\n",
    "\n",
    "# Fit tokenizers on the cleaned text\n",
    "tokenizer_desc.fit_on_texts(df_filtered['description_clean'])\n",
    "tokenizer_feat.fit_on_texts(df_filtered['features_clean'])\n",
    "\n",
    "# Convert texts to sequences\n",
    "sequences_desc = tokenizer_desc.texts_to_sequences(df_filtered['description_clean'])\n",
    "sequences_feat = tokenizer_feat.texts_to_sequences(df_filtered['features_clean'])\n",
    "\n",
    "# Pad sequences\n",
    "padded_desc = pad_sequences(sequences_desc, maxlen=max_sequence_length_desc, padding='post', truncating='post')\n",
    "padded_feat = pad_sequences(sequences_feat, maxlen=max_sequence_length_feat, padding='post', truncating='post')\n",
    "\n",
    "# Display the shape of the tokenized data\n",
    "print(f\"Description sequences shape: {padded_desc.shape}\")\n",
    "print(f\"Features sequences shape: {padded_feat.shape}\")"
   ]
  },
  {
   "cell_type": "code",
   "execution_count": 15,
   "metadata": {
    "id": "kL_9rozD47oJ"
   },
   "outputs": [],
   "source": [
    "# Define the target variable 'y' and features 'X'\n",
    "y = df_filtered['interest_level_encoded'].values\n",
    "y_categorical = to_categorical(y)\n",
    "X_structured = df_filtered.drop(columns=['interest_level', 'interest_level_encoded', 'building_id', 'description', 'display_address', 'features', 'listing_id', 'street_address', 'description_clean', 'features_clean']).values\n",
    "\n",
    "# Split the data into 80% training set and 20% test set\n",
    "X_structured_train, X_structured_test, padded_desc_train, padded_desc_test, padded_feat_train, padded_feat_test, y_train, y_test = train_test_split(\n",
    "    X_structured, padded_desc, padded_feat, y_categorical, test_size=0.2, random_state=42, stratify=y\n",
    ")\n",
    "\n",
    "# Feature Scaling\n",
    "x_scaler = StandardScaler()\n",
    "X_train_scaled = x_scaler.fit_transform(X_structured_train)\n",
    "X_test_scaled = x_scaler.transform(X_structured_test)"
   ]
  },
  {
   "cell_type": "code",
   "execution_count": 16,
   "metadata": {
    "colab": {
     "base_uri": "https://localhost:8080/",
     "height": 744
    },
    "id": "0goZdyg447oJ",
    "outputId": "59690a0c-1969-4981-bb74-785a41341be3"
   },
   "outputs": [
    {
     "name": "stderr",
     "output_type": "stream",
     "text": [
      "c:\\Users\\MITALI\\anaconda3\\Lib\\site-packages\\keras\\src\\layers\\core\\embedding.py:90: UserWarning: Argument `input_length` is deprecated. Just remove it.\n",
      "  warnings.warn(\n"
     ]
    },
    {
     "data": {
      "text/html": [
       "<pre style=\"white-space:pre;overflow-x:auto;line-height:normal;font-family:Menlo,'DejaVu Sans Mono',consolas,'Courier New',monospace\"><span style=\"font-weight: bold\">Model: \"functional\"</span>\n",
       "</pre>\n"
      ],
      "text/plain": [
       "\u001b[1mModel: \"functional\"\u001b[0m\n"
      ]
     },
     "metadata": {},
     "output_type": "display_data"
    },
    {
     "data": {
      "text/html": [
       "<pre style=\"white-space:pre;overflow-x:auto;line-height:normal;font-family:Menlo,'DejaVu Sans Mono',consolas,'Courier New',monospace\">┏━━━━━━━━━━━━━━━━━━━━━┳━━━━━━━━━━━━━━━━━━━┳━━━━━━━━━━━━┳━━━━━━━━━━━━━━━━━━━┓\n",
       "┃<span style=\"font-weight: bold\"> Layer (type)        </span>┃<span style=\"font-weight: bold\"> Output Shape      </span>┃<span style=\"font-weight: bold\">    Param # </span>┃<span style=\"font-weight: bold\"> Connected to      </span>┃\n",
       "┡━━━━━━━━━━━━━━━━━━━━━╇━━━━━━━━━━━━━━━━━━━╇━━━━━━━━━━━━╇━━━━━━━━━━━━━━━━━━━┩\n",
       "│ description_input   │ (<span style=\"color: #00d7ff; text-decoration-color: #00d7ff\">None</span>, <span style=\"color: #00af00; text-decoration-color: #00af00\">100</span>)       │          <span style=\"color: #00af00; text-decoration-color: #00af00\">0</span> │ -                 │\n",
       "│ (<span style=\"color: #0087ff; text-decoration-color: #0087ff\">InputLayer</span>)        │                   │            │                   │\n",
       "├─────────────────────┼───────────────────┼────────────┼───────────────────┤\n",
       "│ features_input      │ (<span style=\"color: #00d7ff; text-decoration-color: #00d7ff\">None</span>, <span style=\"color: #00af00; text-decoration-color: #00af00\">20</span>)        │          <span style=\"color: #00af00; text-decoration-color: #00af00\">0</span> │ -                 │\n",
       "│ (<span style=\"color: #0087ff; text-decoration-color: #0087ff\">InputLayer</span>)        │                   │            │                   │\n",
       "├─────────────────────┼───────────────────┼────────────┼───────────────────┤\n",
       "│ structured_input    │ (<span style=\"color: #00d7ff; text-decoration-color: #00d7ff\">None</span>, <span style=\"color: #00af00; text-decoration-color: #00af00\">14</span>)        │          <span style=\"color: #00af00; text-decoration-color: #00af00\">0</span> │ -                 │\n",
       "│ (<span style=\"color: #0087ff; text-decoration-color: #0087ff\">InputLayer</span>)        │                   │            │                   │\n",
       "├─────────────────────┼───────────────────┼────────────┼───────────────────┤\n",
       "│ embedding           │ (<span style=\"color: #00d7ff; text-decoration-color: #00d7ff\">None</span>, <span style=\"color: #00af00; text-decoration-color: #00af00\">100</span>, <span style=\"color: #00af00; text-decoration-color: #00af00\">128</span>)  │  <span style=\"color: #00af00; text-decoration-color: #00af00\">1,280,000</span> │ description_inpu… │\n",
       "│ (<span style=\"color: #0087ff; text-decoration-color: #0087ff\">Embedding</span>)         │                   │            │                   │\n",
       "├─────────────────────┼───────────────────┼────────────┼───────────────────┤\n",
       "│ embedding_1         │ (<span style=\"color: #00d7ff; text-decoration-color: #00d7ff\">None</span>, <span style=\"color: #00af00; text-decoration-color: #00af00\">20</span>, <span style=\"color: #00af00; text-decoration-color: #00af00\">64</span>)    │    <span style=\"color: #00af00; text-decoration-color: #00af00\">320,000</span> │ features_input[<span style=\"color: #00af00; text-decoration-color: #00af00\">0</span>… │\n",
       "│ (<span style=\"color: #0087ff; text-decoration-color: #0087ff\">Embedding</span>)         │                   │            │                   │\n",
       "├─────────────────────┼───────────────────┼────────────┼───────────────────┤\n",
       "│ dense (<span style=\"color: #0087ff; text-decoration-color: #0087ff\">Dense</span>)       │ (<span style=\"color: #00d7ff; text-decoration-color: #00d7ff\">None</span>, <span style=\"color: #00af00; text-decoration-color: #00af00\">64</span>)        │        <span style=\"color: #00af00; text-decoration-color: #00af00\">960</span> │ structured_input… │\n",
       "├─────────────────────┼───────────────────┼────────────┼───────────────────┤\n",
       "│ lstm (<span style=\"color: #0087ff; text-decoration-color: #0087ff\">LSTM</span>)         │ (<span style=\"color: #00d7ff; text-decoration-color: #00d7ff\">None</span>, <span style=\"color: #00af00; text-decoration-color: #00af00\">64</span>)        │     <span style=\"color: #00af00; text-decoration-color: #00af00\">49,408</span> │ embedding[<span style=\"color: #00af00; text-decoration-color: #00af00\">0</span>][<span style=\"color: #00af00; text-decoration-color: #00af00\">0</span>]   │\n",
       "├─────────────────────┼───────────────────┼────────────┼───────────────────┤\n",
       "│ lstm_1 (<span style=\"color: #0087ff; text-decoration-color: #0087ff\">LSTM</span>)       │ (<span style=\"color: #00d7ff; text-decoration-color: #00d7ff\">None</span>, <span style=\"color: #00af00; text-decoration-color: #00af00\">32</span>)        │     <span style=\"color: #00af00; text-decoration-color: #00af00\">12,416</span> │ embedding_1[<span style=\"color: #00af00; text-decoration-color: #00af00\">0</span>][<span style=\"color: #00af00; text-decoration-color: #00af00\">0</span>] │\n",
       "├─────────────────────┼───────────────────┼────────────┼───────────────────┤\n",
       "│ dropout (<span style=\"color: #0087ff; text-decoration-color: #0087ff\">Dropout</span>)   │ (<span style=\"color: #00d7ff; text-decoration-color: #00d7ff\">None</span>, <span style=\"color: #00af00; text-decoration-color: #00af00\">64</span>)        │          <span style=\"color: #00af00; text-decoration-color: #00af00\">0</span> │ dense[<span style=\"color: #00af00; text-decoration-color: #00af00\">0</span>][<span style=\"color: #00af00; text-decoration-color: #00af00\">0</span>]       │\n",
       "├─────────────────────┼───────────────────┼────────────┼───────────────────┤\n",
       "│ concatenate         │ (<span style=\"color: #00d7ff; text-decoration-color: #00d7ff\">None</span>, <span style=\"color: #00af00; text-decoration-color: #00af00\">160</span>)       │          <span style=\"color: #00af00; text-decoration-color: #00af00\">0</span> │ lstm[<span style=\"color: #00af00; text-decoration-color: #00af00\">0</span>][<span style=\"color: #00af00; text-decoration-color: #00af00\">0</span>],       │\n",
       "│ (<span style=\"color: #0087ff; text-decoration-color: #0087ff\">Concatenate</span>)       │                   │            │ lstm_1[<span style=\"color: #00af00; text-decoration-color: #00af00\">0</span>][<span style=\"color: #00af00; text-decoration-color: #00af00\">0</span>],     │\n",
       "│                     │                   │            │ dropout[<span style=\"color: #00af00; text-decoration-color: #00af00\">0</span>][<span style=\"color: #00af00; text-decoration-color: #00af00\">0</span>]     │\n",
       "├─────────────────────┼───────────────────┼────────────┼───────────────────┤\n",
       "│ dense_1 (<span style=\"color: #0087ff; text-decoration-color: #0087ff\">Dense</span>)     │ (<span style=\"color: #00d7ff; text-decoration-color: #00d7ff\">None</span>, <span style=\"color: #00af00; text-decoration-color: #00af00\">128</span>)       │     <span style=\"color: #00af00; text-decoration-color: #00af00\">20,608</span> │ concatenate[<span style=\"color: #00af00; text-decoration-color: #00af00\">0</span>][<span style=\"color: #00af00; text-decoration-color: #00af00\">0</span>] │\n",
       "├─────────────────────┼───────────────────┼────────────┼───────────────────┤\n",
       "│ dropout_1 (<span style=\"color: #0087ff; text-decoration-color: #0087ff\">Dropout</span>) │ (<span style=\"color: #00d7ff; text-decoration-color: #00d7ff\">None</span>, <span style=\"color: #00af00; text-decoration-color: #00af00\">128</span>)       │          <span style=\"color: #00af00; text-decoration-color: #00af00\">0</span> │ dense_1[<span style=\"color: #00af00; text-decoration-color: #00af00\">0</span>][<span style=\"color: #00af00; text-decoration-color: #00af00\">0</span>]     │\n",
       "├─────────────────────┼───────────────────┼────────────┼───────────────────┤\n",
       "│ dense_2 (<span style=\"color: #0087ff; text-decoration-color: #0087ff\">Dense</span>)     │ (<span style=\"color: #00d7ff; text-decoration-color: #00d7ff\">None</span>, <span style=\"color: #00af00; text-decoration-color: #00af00\">64</span>)        │      <span style=\"color: #00af00; text-decoration-color: #00af00\">8,256</span> │ dropout_1[<span style=\"color: #00af00; text-decoration-color: #00af00\">0</span>][<span style=\"color: #00af00; text-decoration-color: #00af00\">0</span>]   │\n",
       "├─────────────────────┼───────────────────┼────────────┼───────────────────┤\n",
       "│ dropout_2 (<span style=\"color: #0087ff; text-decoration-color: #0087ff\">Dropout</span>) │ (<span style=\"color: #00d7ff; text-decoration-color: #00d7ff\">None</span>, <span style=\"color: #00af00; text-decoration-color: #00af00\">64</span>)        │          <span style=\"color: #00af00; text-decoration-color: #00af00\">0</span> │ dense_2[<span style=\"color: #00af00; text-decoration-color: #00af00\">0</span>][<span style=\"color: #00af00; text-decoration-color: #00af00\">0</span>]     │\n",
       "├─────────────────────┼───────────────────┼────────────┼───────────────────┤\n",
       "│ dense_3 (<span style=\"color: #0087ff; text-decoration-color: #0087ff\">Dense</span>)     │ (<span style=\"color: #00d7ff; text-decoration-color: #00d7ff\">None</span>, <span style=\"color: #00af00; text-decoration-color: #00af00\">3</span>)         │        <span style=\"color: #00af00; text-decoration-color: #00af00\">195</span> │ dropout_2[<span style=\"color: #00af00; text-decoration-color: #00af00\">0</span>][<span style=\"color: #00af00; text-decoration-color: #00af00\">0</span>]   │\n",
       "└─────────────────────┴───────────────────┴────────────┴───────────────────┘\n",
       "</pre>\n"
      ],
      "text/plain": [
       "┏━━━━━━━━━━━━━━━━━━━━━┳━━━━━━━━━━━━━━━━━━━┳━━━━━━━━━━━━┳━━━━━━━━━━━━━━━━━━━┓\n",
       "┃\u001b[1m \u001b[0m\u001b[1mLayer (type)       \u001b[0m\u001b[1m \u001b[0m┃\u001b[1m \u001b[0m\u001b[1mOutput Shape     \u001b[0m\u001b[1m \u001b[0m┃\u001b[1m \u001b[0m\u001b[1m   Param #\u001b[0m\u001b[1m \u001b[0m┃\u001b[1m \u001b[0m\u001b[1mConnected to     \u001b[0m\u001b[1m \u001b[0m┃\n",
       "┡━━━━━━━━━━━━━━━━━━━━━╇━━━━━━━━━━━━━━━━━━━╇━━━━━━━━━━━━╇━━━━━━━━━━━━━━━━━━━┩\n",
       "│ description_input   │ (\u001b[38;5;45mNone\u001b[0m, \u001b[38;5;34m100\u001b[0m)       │          \u001b[38;5;34m0\u001b[0m │ -                 │\n",
       "│ (\u001b[38;5;33mInputLayer\u001b[0m)        │                   │            │                   │\n",
       "├─────────────────────┼───────────────────┼────────────┼───────────────────┤\n",
       "│ features_input      │ (\u001b[38;5;45mNone\u001b[0m, \u001b[38;5;34m20\u001b[0m)        │          \u001b[38;5;34m0\u001b[0m │ -                 │\n",
       "│ (\u001b[38;5;33mInputLayer\u001b[0m)        │                   │            │                   │\n",
       "├─────────────────────┼───────────────────┼────────────┼───────────────────┤\n",
       "│ structured_input    │ (\u001b[38;5;45mNone\u001b[0m, \u001b[38;5;34m14\u001b[0m)        │          \u001b[38;5;34m0\u001b[0m │ -                 │\n",
       "│ (\u001b[38;5;33mInputLayer\u001b[0m)        │                   │            │                   │\n",
       "├─────────────────────┼───────────────────┼────────────┼───────────────────┤\n",
       "│ embedding           │ (\u001b[38;5;45mNone\u001b[0m, \u001b[38;5;34m100\u001b[0m, \u001b[38;5;34m128\u001b[0m)  │  \u001b[38;5;34m1,280,000\u001b[0m │ description_inpu… │\n",
       "│ (\u001b[38;5;33mEmbedding\u001b[0m)         │                   │            │                   │\n",
       "├─────────────────────┼───────────────────┼────────────┼───────────────────┤\n",
       "│ embedding_1         │ (\u001b[38;5;45mNone\u001b[0m, \u001b[38;5;34m20\u001b[0m, \u001b[38;5;34m64\u001b[0m)    │    \u001b[38;5;34m320,000\u001b[0m │ features_input[\u001b[38;5;34m0\u001b[0m… │\n",
       "│ (\u001b[38;5;33mEmbedding\u001b[0m)         │                   │            │                   │\n",
       "├─────────────────────┼───────────────────┼────────────┼───────────────────┤\n",
       "│ dense (\u001b[38;5;33mDense\u001b[0m)       │ (\u001b[38;5;45mNone\u001b[0m, \u001b[38;5;34m64\u001b[0m)        │        \u001b[38;5;34m960\u001b[0m │ structured_input… │\n",
       "├─────────────────────┼───────────────────┼────────────┼───────────────────┤\n",
       "│ lstm (\u001b[38;5;33mLSTM\u001b[0m)         │ (\u001b[38;5;45mNone\u001b[0m, \u001b[38;5;34m64\u001b[0m)        │     \u001b[38;5;34m49,408\u001b[0m │ embedding[\u001b[38;5;34m0\u001b[0m][\u001b[38;5;34m0\u001b[0m]   │\n",
       "├─────────────────────┼───────────────────┼────────────┼───────────────────┤\n",
       "│ lstm_1 (\u001b[38;5;33mLSTM\u001b[0m)       │ (\u001b[38;5;45mNone\u001b[0m, \u001b[38;5;34m32\u001b[0m)        │     \u001b[38;5;34m12,416\u001b[0m │ embedding_1[\u001b[38;5;34m0\u001b[0m][\u001b[38;5;34m0\u001b[0m] │\n",
       "├─────────────────────┼───────────────────┼────────────┼───────────────────┤\n",
       "│ dropout (\u001b[38;5;33mDropout\u001b[0m)   │ (\u001b[38;5;45mNone\u001b[0m, \u001b[38;5;34m64\u001b[0m)        │          \u001b[38;5;34m0\u001b[0m │ dense[\u001b[38;5;34m0\u001b[0m][\u001b[38;5;34m0\u001b[0m]       │\n",
       "├─────────────────────┼───────────────────┼────────────┼───────────────────┤\n",
       "│ concatenate         │ (\u001b[38;5;45mNone\u001b[0m, \u001b[38;5;34m160\u001b[0m)       │          \u001b[38;5;34m0\u001b[0m │ lstm[\u001b[38;5;34m0\u001b[0m][\u001b[38;5;34m0\u001b[0m],       │\n",
       "│ (\u001b[38;5;33mConcatenate\u001b[0m)       │                   │            │ lstm_1[\u001b[38;5;34m0\u001b[0m][\u001b[38;5;34m0\u001b[0m],     │\n",
       "│                     │                   │            │ dropout[\u001b[38;5;34m0\u001b[0m][\u001b[38;5;34m0\u001b[0m]     │\n",
       "├─────────────────────┼───────────────────┼────────────┼───────────────────┤\n",
       "│ dense_1 (\u001b[38;5;33mDense\u001b[0m)     │ (\u001b[38;5;45mNone\u001b[0m, \u001b[38;5;34m128\u001b[0m)       │     \u001b[38;5;34m20,608\u001b[0m │ concatenate[\u001b[38;5;34m0\u001b[0m][\u001b[38;5;34m0\u001b[0m] │\n",
       "├─────────────────────┼───────────────────┼────────────┼───────────────────┤\n",
       "│ dropout_1 (\u001b[38;5;33mDropout\u001b[0m) │ (\u001b[38;5;45mNone\u001b[0m, \u001b[38;5;34m128\u001b[0m)       │          \u001b[38;5;34m0\u001b[0m │ dense_1[\u001b[38;5;34m0\u001b[0m][\u001b[38;5;34m0\u001b[0m]     │\n",
       "├─────────────────────┼───────────────────┼────────────┼───────────────────┤\n",
       "│ dense_2 (\u001b[38;5;33mDense\u001b[0m)     │ (\u001b[38;5;45mNone\u001b[0m, \u001b[38;5;34m64\u001b[0m)        │      \u001b[38;5;34m8,256\u001b[0m │ dropout_1[\u001b[38;5;34m0\u001b[0m][\u001b[38;5;34m0\u001b[0m]   │\n",
       "├─────────────────────┼───────────────────┼────────────┼───────────────────┤\n",
       "│ dropout_2 (\u001b[38;5;33mDropout\u001b[0m) │ (\u001b[38;5;45mNone\u001b[0m, \u001b[38;5;34m64\u001b[0m)        │          \u001b[38;5;34m0\u001b[0m │ dense_2[\u001b[38;5;34m0\u001b[0m][\u001b[38;5;34m0\u001b[0m]     │\n",
       "├─────────────────────┼───────────────────┼────────────┼───────────────────┤\n",
       "│ dense_3 (\u001b[38;5;33mDense\u001b[0m)     │ (\u001b[38;5;45mNone\u001b[0m, \u001b[38;5;34m3\u001b[0m)         │        \u001b[38;5;34m195\u001b[0m │ dropout_2[\u001b[38;5;34m0\u001b[0m][\u001b[38;5;34m0\u001b[0m]   │\n",
       "└─────────────────────┴───────────────────┴────────────┴───────────────────┘\n"
      ]
     },
     "metadata": {},
     "output_type": "display_data"
    },
    {
     "data": {
      "text/html": [
       "<pre style=\"white-space:pre;overflow-x:auto;line-height:normal;font-family:Menlo,'DejaVu Sans Mono',consolas,'Courier New',monospace\"><span style=\"font-weight: bold\"> Total params: </span><span style=\"color: #00af00; text-decoration-color: #00af00\">1,691,843</span> (6.45 MB)\n",
       "</pre>\n"
      ],
      "text/plain": [
       "\u001b[1m Total params: \u001b[0m\u001b[38;5;34m1,691,843\u001b[0m (6.45 MB)\n"
      ]
     },
     "metadata": {},
     "output_type": "display_data"
    },
    {
     "data": {
      "text/html": [
       "<pre style=\"white-space:pre;overflow-x:auto;line-height:normal;font-family:Menlo,'DejaVu Sans Mono',consolas,'Courier New',monospace\"><span style=\"font-weight: bold\"> Trainable params: </span><span style=\"color: #00af00; text-decoration-color: #00af00\">1,691,843</span> (6.45 MB)\n",
       "</pre>\n"
      ],
      "text/plain": [
       "\u001b[1m Trainable params: \u001b[0m\u001b[38;5;34m1,691,843\u001b[0m (6.45 MB)\n"
      ]
     },
     "metadata": {},
     "output_type": "display_data"
    },
    {
     "data": {
      "text/html": [
       "<pre style=\"white-space:pre;overflow-x:auto;line-height:normal;font-family:Menlo,'DejaVu Sans Mono',consolas,'Courier New',monospace\"><span style=\"font-weight: bold\"> Non-trainable params: </span><span style=\"color: #00af00; text-decoration-color: #00af00\">0</span> (0.00 B)\n",
       "</pre>\n"
      ],
      "text/plain": [
       "\u001b[1m Non-trainable params: \u001b[0m\u001b[38;5;34m0\u001b[0m (0.00 B)\n"
      ]
     },
     "metadata": {},
     "output_type": "display_data"
    }
   ],
   "source": [
    "# Text input for 'description_clean'\n",
    "desc_input = Input(shape=(max_sequence_length_desc,), name='description_input')\n",
    "embedding_desc = Embedding(input_dim=max_vocab_size_desc, output_dim=128, input_length=max_sequence_length_desc)(desc_input)\n",
    "lstm_desc = LSTM(64, dropout=0.2, recurrent_dropout=0.2)(embedding_desc)\n",
    "\n",
    "# Text input for 'features_clean'\n",
    "feat_input = Input(shape=(max_sequence_length_feat,), name='features_input')\n",
    "embedding_feat = Embedding(input_dim=max_vocab_size_feat, output_dim=64, input_length=max_sequence_length_feat)(feat_input)\n",
    "lstm_feat = LSTM(32, dropout=0.2, recurrent_dropout=0.2)(embedding_feat)\n",
    "\n",
    "# Structured data input\n",
    "structured_input = Input(shape=(X_train_scaled.shape[1],), name='structured_input')\n",
    "dense_structured = Dense(64, activation='relu')(structured_input)\n",
    "dense_structured = Dropout(0.3)(dense_structured)\n",
    "\n",
    "# Combine all processed inputs\n",
    "combined = Concatenate()([lstm_desc, lstm_feat, dense_structured])\n",
    "\n",
    "# Add additional layers if desired\n",
    "dense1 = Dense(128, activation='relu')(combined)\n",
    "drop1 = Dropout(0.5)(dense1)\n",
    "dense2 = Dense(64, activation='relu')(drop1)\n",
    "drop2 = Dropout(0.5)(dense2)\n",
    "\n",
    "# Output layer\n",
    "output = Dense(y_train.shape[1], activation='linear')(drop2)  # `y_train.shape[1]` gives the number of classes\n",
    "\n",
    "# Build the model\n",
    "model = Model(inputs=[desc_input, feat_input, structured_input], outputs=output)\n",
    "\n",
    "# Compile the model\n",
    "model.compile(\n",
    "    loss='categorical_crossentropy',\n",
    "    optimizer='adam',\n",
    "    metrics=['accuracy']\n",
    "    # metrics=['mae', 'mse']\n",
    ")\n",
    "\n",
    "# Display the model summary\n",
    "model.summary()"
   ]
  },
  {
   "cell_type": "code",
   "execution_count": 17,
   "metadata": {
    "colab": {
     "base_uri": "https://localhost:8080/"
    },
    "id": "1wK3gFzh47oK",
    "outputId": "ec88d595-8eaa-45e2-c6ae-8c81a2abd27b"
   },
   "outputs": [
    {
     "name": "stdout",
     "output_type": "stream",
     "text": [
      "Epoch 1/50\n"
     ]
    },
    {
     "name": "stderr",
     "output_type": "stream",
     "text": [
      "c:\\Users\\MITALI\\anaconda3\\Lib\\site-packages\\keras\\src\\models\\functional.py:225: UserWarning: The structure of `inputs` doesn't match the expected structure: ['description_input', 'features_input', 'structured_input']. Received: the structure of inputs={'description_input': '*', 'features_input': '*', 'structured_input': '*'}\n",
      "  warnings.warn(\n"
     ]
    },
    {
     "name": "stdout",
     "output_type": "stream",
     "text": [
      "\u001b[1m309/309\u001b[0m \u001b[32m━━━━━━━━━━━━━━━━━━━━\u001b[0m\u001b[37m\u001b[0m \u001b[1m83s\u001b[0m 216ms/step - accuracy: 0.2456 - loss: 3.1510 - val_accuracy: 0.6944 - val_loss: 0.8182\n",
      "Epoch 2/50\n",
      "\u001b[1m309/309\u001b[0m \u001b[32m━━━━━━━━━━━━━━━━━━━━\u001b[0m\u001b[37m\u001b[0m \u001b[1m57s\u001b[0m 185ms/step - accuracy: 0.6808 - loss: 1.0076 - val_accuracy: 0.6944 - val_loss: 0.8089\n",
      "Epoch 3/50\n",
      "\u001b[1m309/309\u001b[0m \u001b[32m━━━━━━━━━━━━━━━━━━━━\u001b[0m\u001b[37m\u001b[0m \u001b[1m55s\u001b[0m 178ms/step - accuracy: 0.6937 - loss: 0.8874 - val_accuracy: 0.6944 - val_loss: 0.7892\n",
      "Epoch 4/50\n",
      "\u001b[1m309/309\u001b[0m \u001b[32m━━━━━━━━━━━━━━━━━━━━\u001b[0m\u001b[37m\u001b[0m \u001b[1m64s\u001b[0m 207ms/step - accuracy: 0.6943 - loss: 0.8510 - val_accuracy: 0.6944 - val_loss: 0.7902\n",
      "Epoch 5/50\n",
      "\u001b[1m309/309\u001b[0m \u001b[32m━━━━━━━━━━━━━━━━━━━━\u001b[0m\u001b[37m\u001b[0m \u001b[1m58s\u001b[0m 186ms/step - accuracy: 0.6894 - loss: 0.8206 - val_accuracy: 0.6944 - val_loss: 0.7896\n",
      "Epoch 6/50\n",
      "\u001b[1m309/309\u001b[0m \u001b[32m━━━━━━━━━━━━━━━━━━━━\u001b[0m\u001b[37m\u001b[0m \u001b[1m92s\u001b[0m 218ms/step - accuracy: 0.6940 - loss: 0.8017 - val_accuracy: 0.6944 - val_loss: 0.7775\n",
      "Epoch 7/50\n",
      "\u001b[1m309/309\u001b[0m \u001b[32m━━━━━━━━━━━━━━━━━━━━\u001b[0m\u001b[37m\u001b[0m \u001b[1m61s\u001b[0m 198ms/step - accuracy: 0.6945 - loss: 0.7950 - val_accuracy: 0.6944 - val_loss: 0.7488\n",
      "Epoch 8/50\n",
      "\u001b[1m309/309\u001b[0m \u001b[32m━━━━━━━━━━━━━━━━━━━━\u001b[0m\u001b[37m\u001b[0m \u001b[1m69s\u001b[0m 155ms/step - accuracy: 0.6960 - loss: 0.8404 - val_accuracy: 0.6944 - val_loss: 0.7470\n",
      "Epoch 9/50\n",
      "\u001b[1m309/309\u001b[0m \u001b[32m━━━━━━━━━━━━━━━━━━━━\u001b[0m\u001b[37m\u001b[0m \u001b[1m55s\u001b[0m 178ms/step - accuracy: 0.6925 - loss: 0.7949 - val_accuracy: 0.6945 - val_loss: 0.7619\n",
      "Epoch 10/50\n",
      "\u001b[1m309/309\u001b[0m \u001b[32m━━━━━━━━━━━━━━━━━━━━\u001b[0m\u001b[37m\u001b[0m \u001b[1m43s\u001b[0m 138ms/step - accuracy: 0.6914 - loss: 0.7856 - val_accuracy: 0.6946 - val_loss: 0.7489\n",
      "Epoch 11/50\n",
      "\u001b[1m309/309\u001b[0m \u001b[32m━━━━━━━━━━━━━━━━━━━━\u001b[0m\u001b[37m\u001b[0m \u001b[1m50s\u001b[0m 161ms/step - accuracy: 0.6933 - loss: 0.7883 - val_accuracy: 0.6969 - val_loss: 0.7232\n",
      "Epoch 12/50\n",
      "\u001b[1m309/309\u001b[0m \u001b[32m━━━━━━━━━━━━━━━━━━━━\u001b[0m\u001b[37m\u001b[0m \u001b[1m60s\u001b[0m 193ms/step - accuracy: 0.6995 - loss: 0.7663 - val_accuracy: 0.6951 - val_loss: 0.7440\n",
      "Epoch 13/50\n",
      "\u001b[1m309/309\u001b[0m \u001b[32m━━━━━━━━━━━━━━━━━━━━\u001b[0m\u001b[37m\u001b[0m \u001b[1m59s\u001b[0m 192ms/step - accuracy: 0.6974 - loss: 0.7695 - val_accuracy: 0.6959 - val_loss: 0.7184\n",
      "Epoch 14/50\n",
      "\u001b[1m309/309\u001b[0m \u001b[32m━━━━━━━━━━━━━━━━━━━━\u001b[0m\u001b[37m\u001b[0m \u001b[1m45s\u001b[0m 145ms/step - accuracy: 0.6968 - loss: 0.7604 - val_accuracy: 0.6942 - val_loss: 0.7258\n",
      "Epoch 15/50\n",
      "\u001b[1m309/309\u001b[0m \u001b[32m━━━━━━━━━━━━━━━━━━━━\u001b[0m\u001b[37m\u001b[0m \u001b[1m59s\u001b[0m 191ms/step - accuracy: 0.7061 - loss: 0.7747 - val_accuracy: 0.6961 - val_loss: 0.7202\n",
      "Epoch 16/50\n",
      "\u001b[1m309/309\u001b[0m \u001b[32m━━━━━━━━━━━━━━━━━━━━\u001b[0m\u001b[37m\u001b[0m \u001b[1m55s\u001b[0m 179ms/step - accuracy: 0.6981 - loss: 0.9034 - val_accuracy: 0.6943 - val_loss: 0.7835\n"
     ]
    }
   ],
   "source": [
    "# Define early stopping\n",
    "early_stop = EarlyStopping(monitor='val_loss', patience=3, restore_best_weights=True)\n",
    "\n",
    "# Train the model\n",
    "history = model.fit(\n",
    "    {\n",
    "        'description_input': padded_desc_train,\n",
    "        'features_input': padded_feat_train,\n",
    "        'structured_input': X_train_scaled\n",
    "    },\n",
    "    y_train,\n",
    "    epochs=50,  # Adjust epochs as needed\n",
    "    batch_size=128,\n",
    "    validation_data=(\n",
    "        {\n",
    "            'description_input': padded_desc_test,\n",
    "            'features_input': padded_feat_test,\n",
    "            'structured_input': X_test_scaled\n",
    "        },\n",
    "        y_test\n",
    "    ),\n",
    "    callbacks=[early_stop]\n",
    ")"
   ]
  },
  {
   "cell_type": "code",
   "execution_count": 18,
   "metadata": {
    "colab": {
     "base_uri": "https://localhost:8080/",
     "height": 788
    },
    "id": "LZGNP1Ry47oL",
    "outputId": "08330fdc-3505-4c91-e849-3f9ee7975564"
   },
   "outputs": [
    {
     "name": "stdout",
     "output_type": "stream",
     "text": [
      "\u001b[1m309/309\u001b[0m \u001b[32m━━━━━━━━━━━━━━━━━━━━\u001b[0m\u001b[37m\u001b[0m \u001b[1m10s\u001b[0m 30ms/step\n"
     ]
    }
   ],
   "source": [
    "# Predict on test data\n",
    "y_pred = model.predict({\n",
    "    'description_input': padded_desc_test,\n",
    "    'features_input': padded_feat_test,\n",
    "    'structured_input': X_test_scaled\n",
    "})\n",
    "\n",
    "# Convert predictions and true labels to class indices\n",
    "y_pred_classes = np.argmax(y_pred, axis=1)\n",
    "y_true_classes = np.argmax(y_test, axis=1)"
   ]
  },
  {
   "cell_type": "code",
   "execution_count": 19,
   "metadata": {
    "colab": {
     "base_uri": "https://localhost:8080/",
     "height": 380
    },
    "id": "TWBEU9Fd47oL",
    "outputId": "572d33e7-3e3d-4264-bf55-aba879251c1d"
   },
   "outputs": [
    {
     "data": {
      "image/png": "[encoded data removed]",
      "text/plain": [
       "<Figure size 1400x600 with 2 Axes>"
      ]
     },
     "metadata": {},
     "output_type": "display_data"
    }
   ],
   "source": [
    "# Plotting Training and Validation Accuracy and Loss\n",
    "def plot_training_history(history):\n",
    "    # Accuracy Plot\n",
    "    plt.figure(figsize=(14, 6))\n",
    "\n",
    "    plt.subplot(1, 2, 1)\n",
    "    plt.plot(history.history['accuracy'], label='Training Accuracy', marker='o')\n",
    "    plt.plot(history.history['val_accuracy'], label='Validation Accuracy', marker='o')\n",
    "    plt.title('Training and Validation Accuracy')\n",
    "    plt.xlabel('Epoch')\n",
    "    plt.ylabel('Accuracy')\n",
    "    plt.legend()\n",
    "    plt.grid(True)\n",
    "\n",
    "    # Loss Plot\n",
    "    plt.subplot(1, 2, 2)\n",
    "    plt.plot(history.history['loss'], label='Training Loss', marker='o')\n",
    "    plt.plot(history.history['val_loss'], label='Validation Loss', marker='o')\n",
    "    plt.title('Training and Validation Loss')\n",
    "    plt.xlabel('Epoch')\n",
    "    plt.ylabel('Loss')\n",
    "    plt.legend()\n",
    "    plt.grid(True)\n",
    "\n",
    "    plt.tight_layout()\n",
    "    plt.show()\n",
    "    \n",
    "plot_training_history(history)"
   ]
  },
  {
   "cell_type": "code",
   "execution_count": 20,
   "metadata": {
    "colab": {
     "base_uri": "https://localhost:8080/"
    },
    "id": "TvUlpkm547oM",
    "outputId": "764100f9-d580-47b2-84f5-2f9d28940eb8"
   },
   "outputs": [
    {
     "name": "stdout",
     "output_type": "stream",
     "text": [
      "Accuracy: 0.6958637469586375\n",
      "Precision: 0.5848166300019736\n",
      "Recall: 0.6958637469586375\n",
      "F1 Score: 0.59204221575934\n"
     ]
    },
    {
     "name": "stderr",
     "output_type": "stream",
     "text": [
      "c:\\Users\\MITALI\\anaconda3\\Lib\\site-packages\\sklearn\\metrics\\_classification.py:1469: UndefinedMetricWarning: Precision is ill-defined and being set to 0.0 in labels with no predicted samples. Use `zero_division` parameter to control this behavior.\n",
      "  _warn_prf(average, modifier, msg_start, len(result))\n"
     ]
    }
   ],
   "source": [
    "accuracy = accuracy_score(y_true_classes, y_pred_classes)\n",
    "precision = precision_score(y_true_classes, y_pred_classes, average='weighted')\n",
    "recall = recall_score(y_true_classes, y_pred_classes, average='weighted')\n",
    "f1score = f1_score(y_true_classes, y_pred_classes, average='weighted')\n",
    "print(f\"Accuracy: {accuracy}\")\n",
    "print(f\"Precision: {precision}\")\n",
    "print(f\"Recall: {recall}\")\n",
    "print(f\"F1 Score: {f1score}\")"
   ]
  },
  {
   "cell_type": "markdown",
   "metadata": {
    "id": "QokY4bpC47oM"
   },
   "source": [
    "Optuna"
   ]
  },
  {
   "cell_type": "code",
   "execution_count": 21,
   "metadata": {
    "id": "SkYsewCy47oN"
   },
   "outputs": [],
   "source": [
    "def objective(trial):\n",
    "    # Suggest hyperparameters\n",
    "    embedding_dim_desc = trial.suggest_categorical('embedding_dim_desc', [64, 128, 256])\n",
    "    embedding_dim_feat = trial.suggest_categorical('embedding_dim_feat', [32, 64, 128])\n",
    "    lstm_units_desc = trial.suggest_categorical('lstm_units_desc', [64, 128, 256])\n",
    "    lstm_units_feat = trial.suggest_categorical('lstm_units_feat', [32, 64, 128])\n",
    "    dropout_lstm = trial.suggest_float('dropout_lstm', 0.1, 0.5)\n",
    "    dropout_dense = trial.suggest_float('dropout_dense', 0.1, 0.5)\n",
    "    dense_units = trial.suggest_categorical('dense_units', [64, 128, 256])\n",
    "    learning_rate = trial.suggest_loguniform('learning_rate', 1e-5, 1e-2)\n",
    "    activation = trial.suggest_categorical('activation', ['relu', 'tanh', 'elu'])\n",
    "\n",
    "    # Build the model\n",
    "    # Description input\n",
    "    desc_input = Input(shape=(max_sequence_length_desc,), name='description_input')\n",
    "    embedding_desc = Embedding(input_dim=max_vocab_size_desc, output_dim=embedding_dim_desc, input_length=max_sequence_length_desc)(desc_input)\n",
    "    lstm_desc = LSTM(lstm_units_desc, dropout=dropout_lstm, recurrent_dropout=dropout_lstm)(embedding_desc)\n",
    "\n",
    "    # Features input\n",
    "    feat_input = Input(shape=(max_sequence_length_feat,), name='features_input')\n",
    "    embedding_feat = Embedding(input_dim=max_vocab_size_feat, output_dim=embedding_dim_feat, input_length=max_sequence_length_feat)(feat_input)\n",
    "    lstm_feat = LSTM(lstm_units_feat, dropout=dropout_lstm, recurrent_dropout=dropout_lstm)(embedding_feat)\n",
    "\n",
    "    # Structured data input\n",
    "    structured_input = Input(shape=(X_train_scaled.shape[1],), name='structured_input')\n",
    "    dense_structured = Dense(dense_units, activation=activation)(structured_input)\n",
    "    dense_structured = Dropout(dropout_dense)(dense_structured)\n",
    "\n",
    "    # Combine all processed inputs\n",
    "    combined = Concatenate()([lstm_desc, lstm_feat, dense_structured])\n",
    "\n",
    "    # Additional layers\n",
    "    dense1 = Dense(dense_units, activation=activation)(combined)\n",
    "    drop1 = Dropout(dropout_dense)(dense1)\n",
    "    dense2 = Dense(dense_units, activation=activation)(drop1)\n",
    "    drop2 = Dropout(dropout_dense)(dense2)\n",
    "\n",
    "    # Output layer\n",
    "    output = Dense(y_train.shape[1], activation='linear')(drop2)\n",
    "\n",
    "    # Build the model\n",
    "    model = Model(inputs=[desc_input, feat_input, structured_input], outputs=output)\n",
    "\n",
    "    # Compile the model\n",
    "    model.compile(\n",
    "        loss='categorical_crossentropy',\n",
    "        optimizer=Adam(learning_rate=learning_rate),\n",
    "        metrics=['accuracy']\n",
    "        # metrics=['mae', 'mse']\n",
    "    )\n",
    "\n",
    "    # Early stopping and pruning\n",
    "    early_stop = EarlyStopping(monitor='val_loss', patience=3, restore_best_weights=True)\n",
    "    pruning_callback = TFKerasPruningCallback(trial, monitor='val_loss')\n",
    "\n",
    "    # Train the model\n",
    "    history = model.fit(\n",
    "        {\n",
    "            'description_input': padded_desc_train,\n",
    "            'features_input': padded_feat_train,\n",
    "            'structured_input': X_train_scaled\n",
    "        },\n",
    "        y_train,\n",
    "        epochs=50,  # Keep epochs low to save time; adjust as needed\n",
    "        batch_size=128,\n",
    "        validation_data=(\n",
    "            {\n",
    "                'description_input': padded_desc_test,\n",
    "                'features_input': padded_feat_test,\n",
    "                'structured_input': X_test_scaled\n",
    "            },\n",
    "            y_test\n",
    "        ),\n",
    "        callbacks=[early_stop, pruning_callback],\n",
    "        verbose=0\n",
    "    )\n",
    "\n",
    "    # Evaluate the model on the validation data\n",
    "    score = model.evaluate(\n",
    "        {\n",
    "            'description_input': padded_desc_test,\n",
    "            'features_input': padded_feat_test,\n",
    "            'structured_input': X_test_scaled\n",
    "        },\n",
    "        y_test,\n",
    "        verbose=0\n",
    "    )\n",
    "\n",
    "    # The first value in score is loss, second is accuracy\n",
    "    val_loss = score[0]\n",
    "    val_accuracy = score[1]\n",
    "\n",
    "    # Optuna tries to minimize the objective, so we can return validation loss\n",
    "    return val_loss"
   ]
  },
  {
   "cell_type": "code",
   "execution_count": 22,
   "metadata": {
    "colab": {
     "base_uri": "https://localhost:8080/"
    },
    "id": "ptg_tAO847oN",
    "outputId": "6e90f1db-59db-47e2-cfd3-e6e83ee0c292"
   },
   "outputs": [
    {
     "name": "stderr",
     "output_type": "stream",
     "text": [
      "[I 2024-12-08 14:10:55,448] A new study created in memory with name: no-name-576174b3-4d5c-4fa6-9c05-5355822a662b\n",
      "C:\\Users\\MITALI\\AppData\\Local\\Temp\\ipykernel_2592\\1461551245.py:10: FutureWarning: suggest_loguniform has been deprecated in v3.0.0. This feature will be removed in v6.0.0. See https://github.com/optuna/optuna/releases/tag/v3.0.0. Use suggest_float(..., log=True) instead.\n",
      "  learning_rate = trial.suggest_loguniform('learning_rate', 1e-5, 1e-2)\n",
      "c:\\Users\\MITALI\\anaconda3\\Lib\\site-packages\\keras\\src\\layers\\core\\embedding.py:90: UserWarning: Argument `input_length` is deprecated. Just remove it.\n",
      "  warnings.warn(\n",
      "c:\\Users\\MITALI\\anaconda3\\Lib\\site-packages\\keras\\src\\models\\functional.py:225: UserWarning: The structure of `inputs` doesn't match the expected structure: ['description_input', 'features_input', 'structured_input']. Received: the structure of inputs={'description_input': '*', 'features_input': '*', 'structured_input': '*'}\n",
      "  warnings.warn(\n",
      "[I 2024-12-08 14:33:22,811] Trial 0 finished with value: 0.7082899808883667 and parameters: {'embedding_dim_desc': 128, 'embedding_dim_feat': 32, 'lstm_units_desc': 128, 'lstm_units_feat': 128, 'dropout_lstm': 0.4329770563201687, 'dropout_dense': 0.18493564427131048, 'dense_units': 256, 'learning_rate': 0.00037520558551242813, 'activation': 'elu'}. Best is trial 0 with value: 0.7082899808883667.\n",
      "[I 2024-12-08 15:03:39,406] Trial 1 finished with value: 0.7730434536933899 and parameters: {'embedding_dim_desc': 256, 'embedding_dim_feat': 64, 'lstm_units_desc': 128, 'lstm_units_feat': 32, 'dropout_lstm': 0.4795542149013333, 'dropout_dense': 0.4862528132298237, 'dense_units': 64, 'learning_rate': 0.0011290133559092666, 'activation': 'elu'}. Best is trial 0 with value: 0.7082899808883667.\n",
      "[I 2024-12-08 16:13:49,888] Trial 2 finished with value: 0.818073034286499 and parameters: {'embedding_dim_desc': 128, 'embedding_dim_feat': 32, 'lstm_units_desc': 256, 'lstm_units_feat': 64, 'dropout_lstm': 0.3391599915244341, 'dropout_dense': 0.4687496940092467, 'dense_units': 128, 'learning_rate': 9.46217535646148e-05, 'activation': 'elu'}. Best is trial 0 with value: 0.7082899808883667.\n"
     ]
    }
   ],
   "source": [
    "# Create the Optuna study\n",
    "study = optuna.create_study(\n",
    "    direction='minimize',  # We aim to minimize validation loss\n",
    "    sampler=TPESampler(seed=42)  # For reproducibility\n",
    ")\n",
    "\n",
    "# Run the optimization\n",
    "study.optimize(objective, n_trials=20, timeout=7200)  # Adjust n_trials and timeout as needed"
   ]
  },
  {
   "cell_type": "code",
   "execution_count": 23,
   "metadata": {
    "colab": {
     "base_uri": "https://localhost:8080/"
    },
    "id": "mdPB_mnl47oN",
    "outputId": "693b1587-f9f9-4779-98a6-8f80fe07f278"
   },
   "outputs": [
    {
     "name": "stdout",
     "output_type": "stream",
     "text": [
      "Best Hyperparameters:\n",
      "embedding_dim_desc: 128\n",
      "embedding_dim_feat: 32\n",
      "lstm_units_desc: 128\n",
      "lstm_units_feat: 128\n",
      "dropout_lstm: 0.4329770563201687\n",
      "dropout_dense: 0.18493564427131048\n",
      "dense_units: 256\n",
      "learning_rate: 0.00037520558551242813\n",
      "activation: elu\n",
      "Epoch 1/50\n",
      "\u001b[1m309/309\u001b[0m \u001b[32m━━━━━━━━━━━━━━━━━━━━\u001b[0m\u001b[37m\u001b[0m \u001b[1m137s\u001b[0m 390ms/step - accuracy: 0.3212 - loss: 2.6054 - val_accuracy: 0.0787 - val_loss: 0.7786\n",
      "Epoch 2/50\n",
      "\u001b[1m309/309\u001b[0m \u001b[32m━━━━━━━━━━━━━━━━━━━━\u001b[0m\u001b[37m\u001b[0m \u001b[1m139s\u001b[0m 451ms/step - accuracy: 0.0860 - loss: 0.8164 - val_accuracy: 0.0817 - val_loss: 0.7786\n",
      "Epoch 3/50\n",
      "\u001b[1m309/309\u001b[0m \u001b[32m━━━━━━━━━━━━━━━━━━━━\u001b[0m\u001b[37m\u001b[0m \u001b[1m116s\u001b[0m 376ms/step - accuracy: 0.0882 - loss: 0.8219 - val_accuracy: 0.0780 - val_loss: 0.7668\n",
      "Epoch 4/50\n",
      "\u001b[1m309/309\u001b[0m \u001b[32m━━━━━━━━━━━━━━━━━━━━\u001b[0m\u001b[37m\u001b[0m \u001b[1m118s\u001b[0m 381ms/step - accuracy: 0.0820 - loss: 0.8326 - val_accuracy: 0.0783 - val_loss: 0.8587\n",
      "Epoch 5/50\n",
      "\u001b[1m309/309\u001b[0m \u001b[32m━━━━━━━━━━━━━━━━━━━━\u001b[0m\u001b[37m\u001b[0m \u001b[1m118s\u001b[0m 383ms/step - accuracy: 0.3167 - loss: 1.1359 - val_accuracy: 0.6944 - val_loss: 0.7896\n",
      "Epoch 6/50\n",
      "\u001b[1m309/309\u001b[0m \u001b[32m━━━━━━━━━━━━━━━━━━━━\u001b[0m\u001b[37m\u001b[0m \u001b[1m122s\u001b[0m 394ms/step - accuracy: 0.6919 - loss: 0.7963 - val_accuracy: 0.6944 - val_loss: 0.7791\n",
      "Epoch 7/50\n",
      "\u001b[1m309/309\u001b[0m \u001b[32m━━━━━━━━━━━━━━━━━━━━\u001b[0m\u001b[37m\u001b[0m \u001b[1m125s\u001b[0m 403ms/step - accuracy: 0.6967 - loss: 0.7783 - val_accuracy: 0.6944 - val_loss: 0.7639\n",
      "Epoch 8/50\n",
      "\u001b[1m309/309\u001b[0m \u001b[32m━━━━━━━━━━━━━━━━━━━━\u001b[0m\u001b[37m\u001b[0m \u001b[1m121s\u001b[0m 391ms/step - accuracy: 0.6920 - loss: 0.7799 - val_accuracy: 0.6955 - val_loss: 0.7488\n",
      "Epoch 9/50\n",
      "\u001b[1m309/309\u001b[0m \u001b[32m━━━━━━━━━━━━━━━━━━━━\u001b[0m\u001b[37m\u001b[0m \u001b[1m131s\u001b[0m 424ms/step - accuracy: 0.6920 - loss: 0.7925 - val_accuracy: 0.6942 - val_loss: 0.8484\n",
      "Epoch 10/50\n",
      "\u001b[1m309/309\u001b[0m \u001b[32m━━━━━━━━━━━━━━━━━━━━\u001b[0m\u001b[37m\u001b[0m \u001b[1m123s\u001b[0m 399ms/step - accuracy: 0.6960 - loss: 0.8068 - val_accuracy: 0.6944 - val_loss: 0.7522\n",
      "Epoch 11/50\n",
      "\u001b[1m309/309\u001b[0m \u001b[32m━━━━━━━━━━━━━━━━━━━━\u001b[0m\u001b[37m\u001b[0m \u001b[1m121s\u001b[0m 392ms/step - accuracy: 0.6945 - loss: 0.7509 - val_accuracy: 0.6965 - val_loss: 0.7253\n",
      "Epoch 12/50\n",
      "\u001b[1m309/309\u001b[0m \u001b[32m━━━━━━━━━━━━━━━━━━━━\u001b[0m\u001b[37m\u001b[0m \u001b[1m117s\u001b[0m 377ms/step - accuracy: 0.6996 - loss: 0.7409 - val_accuracy: 0.6957 - val_loss: 0.7063\n",
      "Epoch 13/50\n",
      "\u001b[1m309/309\u001b[0m \u001b[32m━━━━━━━━━━━━━━━━━━━━\u001b[0m\u001b[37m\u001b[0m \u001b[1m118s\u001b[0m 381ms/step - accuracy: 0.6716 - loss: 0.7625 - val_accuracy: 0.0802 - val_loss: 0.8158\n",
      "Epoch 14/50\n",
      "\u001b[1m309/309\u001b[0m \u001b[32m━━━━━━━━━━━━━━━━━━━━\u001b[0m\u001b[37m\u001b[0m \u001b[1m125s\u001b[0m 404ms/step - accuracy: 0.0806 - loss: 0.8171 - val_accuracy: 0.0779 - val_loss: 0.7809\n",
      "Epoch 15/50\n",
      "\u001b[1m309/309\u001b[0m \u001b[32m━━━━━━━━━━━━━━━━━━━━\u001b[0m\u001b[37m\u001b[0m \u001b[1m116s\u001b[0m 376ms/step - accuracy: 0.0780 - loss: 0.7842 - val_accuracy: 0.0780 - val_loss: 0.7638\n",
      "Epoch 16/50\n",
      "\u001b[1m309/309\u001b[0m \u001b[32m━━━━━━━━━━━━━━━━━━━━\u001b[0m\u001b[37m\u001b[0m \u001b[1m120s\u001b[0m 387ms/step - accuracy: 0.0781 - loss: 0.7717 - val_accuracy: 0.0780 - val_loss: 0.7399\n",
      "Epoch 17/50\n",
      "\u001b[1m309/309\u001b[0m \u001b[32m━━━━━━━━━━━━━━━━━━━━\u001b[0m\u001b[37m\u001b[0m \u001b[1m130s\u001b[0m 419ms/step - accuracy: 0.0784 - loss: 0.7679 - val_accuracy: 0.0779 - val_loss: 0.7815\n"
     ]
    }
   ],
   "source": [
    "# Get the best hyperparameters\n",
    "best_params = study.best_params\n",
    "print(\"Best Hyperparameters:\")\n",
    "for key, value in best_params.items():\n",
    "    print(f\"{key}: {value}\")\n",
    "\n",
    "# Build the final model using the best hyperparameters\n",
    "# Description input\n",
    "desc_input = Input(shape=(max_sequence_length_desc,), name='description_input')\n",
    "embedding_desc = Embedding(input_dim=max_vocab_size_desc, output_dim=best_params['embedding_dim_desc'], input_length=max_sequence_length_desc)(desc_input)\n",
    "lstm_desc = LSTM(best_params['lstm_units_desc'], dropout=best_params['dropout_lstm'], recurrent_dropout=best_params['dropout_lstm'])(embedding_desc)\n",
    "\n",
    "# Features input\n",
    "feat_input = Input(shape=(max_sequence_length_feat,), name='features_input')\n",
    "embedding_feat = Embedding(input_dim=max_vocab_size_feat, output_dim=best_params['embedding_dim_feat'], input_length=max_sequence_length_feat)(feat_input)\n",
    "lstm_feat = LSTM(best_params['lstm_units_feat'], dropout=best_params['dropout_lstm'], recurrent_dropout=best_params['dropout_lstm'])(embedding_feat)\n",
    "\n",
    "# Structured data input\n",
    "structured_input = Input(shape=(X_train_scaled.shape[1],), name='structured_input')\n",
    "dense_structured = Dense(best_params['dense_units'], activation=best_params['activation'])(structured_input)\n",
    "dense_structured = Dropout(best_params['dropout_dense'])(dense_structured)\n",
    "\n",
    "# Combine all processed inputs\n",
    "combined = Concatenate()([lstm_desc, lstm_feat, dense_structured])\n",
    "\n",
    "# Additional layers\n",
    "dense1 = Dense(best_params['dense_units'], activation=best_params['activation'])(combined)\n",
    "drop1 = Dropout(best_params['dropout_dense'])(dense1)\n",
    "dense2 = Dense(best_params['dense_units'], activation=best_params['activation'])(drop1)\n",
    "drop2 = Dropout(best_params['dropout_dense'])(dense2)\n",
    "\n",
    "# Output layer\n",
    "output = Dense(y_train.shape[1], activation='linear')(drop2)\n",
    "\n",
    "# Build the model\n",
    "model = Model(inputs=[desc_input, feat_input, structured_input], outputs=output)\n",
    "\n",
    "# Compile the model\n",
    "model.compile(\n",
    "    loss='categorical_crossentropy',\n",
    "    optimizer=Adam(learning_rate=best_params['learning_rate']),\n",
    "    metrics=['accuracy']\n",
    "    # metrics=['mae', 'mse']\n",
    ")\n",
    "\n",
    "# Train the final model\n",
    "early_stop_final = EarlyStopping(monitor='val_loss', patience=5, restore_best_weights=True)\n",
    "\n",
    "history = model.fit(\n",
    "    {\n",
    "        'description_input': padded_desc_train,\n",
    "        'features_input': padded_feat_train,\n",
    "        'structured_input': X_train_scaled\n",
    "    },\n",
    "    y_train,\n",
    "    epochs=50,  # Increase epochs as needed\n",
    "    batch_size=128,\n",
    "    validation_data=(\n",
    "        {\n",
    "            'description_input': padded_desc_test,\n",
    "            'features_input': padded_feat_test,\n",
    "            'structured_input': X_test_scaled\n",
    "        },\n",
    "        y_test\n",
    "    ),\n",
    "    callbacks=[early_stop_final],\n",
    "    verbose=1\n",
    ")"
   ]
  },
  {
   "cell_type": "code",
   "execution_count": 24,
   "metadata": {
    "colab": {
     "base_uri": "https://localhost:8080/",
     "height": 1000
    },
    "id": "mrOsT3vq47oO",
    "outputId": "06186f15-32ef-49de-a21e-601990d37c53"
   },
   "outputs": [
    {
     "name": "stdout",
     "output_type": "stream",
     "text": [
      "\u001b[1m309/309\u001b[0m \u001b[32m━━━━━━━━━━━━━━━━━━━━\u001b[0m\u001b[37m\u001b[0m \u001b[1m28s\u001b[0m 62ms/step\n"
     ]
    },
    {
     "data": {
      "image/png": "[encoded data removed]",
      "text/plain": [
       "<Figure size 1400x600 with 2 Axes>"
      ]
     },
     "metadata": {},
     "output_type": "display_data"
    }
   ],
   "source": [
    "# Predict on test data\n",
    "y_pred = model.predict({\n",
    "    'description_input': padded_desc_test,\n",
    "    'features_input': padded_feat_test,\n",
    "    'structured_input': X_test_scaled\n",
    "})\n",
    "\n",
    "# Convert predictions and true labels to class indices\n",
    "y_pred_classes = np.argmax(y_pred, axis=1)\n",
    "y_true_classes = np.argmax(y_test, axis=1)\n",
    "\n",
    "plot_training_history(history)"
   ]
  },
  {
   "cell_type": "code",
   "execution_count": 25,
   "metadata": {
    "colab": {
     "base_uri": "https://localhost:8080/"
    },
    "id": "0_7LTPGqfa-p",
    "outputId": "3de9795c-2e17-46ee-fb1f-869166a801b5"
   },
   "outputs": [
    {
     "name": "stdout",
     "output_type": "stream",
     "text": [
      "Accuracy: 0.6956609894566099\n",
      "Precision: 0.5783305227027813\n",
      "Recall: 0.6956609894566099\n",
      "F1 Score: 0.5819551885104183\n"
     ]
    }
   ],
   "source": [
    "accuracy = accuracy_score(y_true_classes, y_pred_classes)\n",
    "precision = precision_score(y_true_classes, y_pred_classes, average='weighted')\n",
    "recall = recall_score(y_true_classes, y_pred_classes, average='weighted')\n",
    "f1score = f1_score(y_true_classes, y_pred_classes, average='weighted')\n",
    "print(f\"Accuracy: {accuracy}\")\n",
    "print(f\"Precision: {precision}\")\n",
    "print(f\"Recall: {recall}\")\n",
    "print(f\"F1 Score: {f1score}\")"
   ]
  },
  {
   "cell_type": "code",
   "execution_count": null,
   "metadata": {
    "id": "r_yasQSufjId"
   },
   "outputs": [],
   "source": []
  }
 ],
 "metadata": {
  "accelerator": "GPU",
  "colab": {
   "gpuType": "T4",
   "provenance": []
  },
  "kernelspec": {
   "display_name": "base",
   "language": "python",
   "name": "python3"
  },
  "language_info": {
   "codemirror_mode": {
    "name": "ipython",
    "version": 3
   },
   "file_extension": ".py",
   "mimetype": "text/x-python",
   "name": "python",
   "nbconvert_exporter": "python",
   "pygments_lexer": "ipython3",
   "version": "3.11.4"
  }
 },
 "nbformat": 4,
 "nbformat_minor": 0
}
