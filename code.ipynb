{
  "nbformat": 4,
  "nbformat_minor": 0,
  "metadata": {
    "colab": {
      "provenance": [],
      "include_colab_link": true
    },
    "kernelspec": {
      "name": "python3",
      "display_name": "Python 3"
    },
    "language_info": {
      "name": "python"
    }
  },
  "cells": [
    {
      "cell_type": "markdown",
      "metadata": {
        "id": "view-in-github",
        "colab_type": "text"
      },
      "source": [
        "<a href=\"https://colab.research.google.com/github/call-me-jot/ECE9063-DA-Final-Project/blob/feature%2Fread_data/code.ipynb\" target=\"_parent\"><img src=\"https://colab.research.google.com/assets/colab-badge.svg\" alt=\"Open In Colab\"/></a>"
      ]
    },
    {
      "cell_type": "code",
      "execution_count": 1,
      "metadata": {
        "colab": {
          "base_uri": "https://localhost:8080/"
        },
        "id": "lqhsN-pKF0ba",
        "outputId": "edb08794-691e-4569-c78c-e5356434c6e3"
      },
      "outputs": [
        {
          "output_type": "stream",
          "name": "stdout",
          "text": [
            "Cloning into 'ECE9063-DA-Final-Project'...\n",
            "remote: Enumerating objects: 44, done.\u001b[K\n",
            "remote: Counting objects: 100% (44/44), done.\u001b[K\n",
            "remote: Compressing objects: 100% (42/42), done.\u001b[K\n",
            "remote: Total 44 (delta 17), reused 9 (delta 2), pack-reused 0 (from 0)\u001b[K\n",
            "Receiving objects: 100% (44/44), 20.16 MiB | 7.01 MiB/s, done.\n",
            "Resolving deltas: 100% (17/17), done.\n"
          ]
        }
      ],
      "source": [
        "!git clone https://github.com/call-me-jot/ECE9063-DA-Final-Project.git"
      ]
    },
    {
      "cell_type": "code",
      "source": [
        "%cd ECE9063-DA-Final-Project/"
      ],
      "metadata": {
        "colab": {
          "base_uri": "https://localhost:8080/"
        },
        "id": "RMq00pHBF_rL",
        "outputId": "39c2c905-35af-4d55-d021-9588e8b0a617"
      },
      "execution_count": 2,
      "outputs": [
        {
          "output_type": "stream",
          "name": "stdout",
          "text": [
            "/content/ECE9063-DA-Final-Project\n"
          ]
        }
      ]
    },
    {
      "cell_type": "code",
      "source": [
        "!git checkout feature/read_data"
      ],
      "metadata": {
        "colab": {
          "base_uri": "https://localhost:8080/"
        },
        "id": "1FJhiVK5GlTK",
        "outputId": "8e8aefa0-a22a-4044-8330-31f7d89d02ea"
      },
      "execution_count": 3,
      "outputs": [
        {
          "output_type": "stream",
          "name": "stdout",
          "text": [
            "Branch 'feature/read_data' set up to track remote branch 'feature/read_data' from 'origin'.\n",
            "Switched to a new branch 'feature/read_data'\n"
          ]
        }
      ]
    },
    {
      "cell_type": "code",
      "source": [
        "!git pull origin feature/read_data"
      ],
      "metadata": {
        "id": "py7tjymVpMkV",
        "outputId": "75f41440-ce92-4bc4-8417-63ef997c37da",
        "colab": {
          "base_uri": "https://localhost:8080/"
        }
      },
      "execution_count": null,
      "outputs": [
        {
          "output_type": "stream",
          "name": "stdout",
          "text": [
            "From https://github.com/call-me-jot/ECE9063-DA-Final-Project\n",
            " * branch            feature/read_data -> FETCH_HEAD\n",
            "fatal: Not possible to fast-forward, aborting.\n"
          ]
        }
      ]
    },
    {
      "cell_type": "code",
      "source": [
        "import pandas as pd\n",
        "import numpy as np\n",
        "import matplotlib.pyplot as plt"
      ],
      "metadata": {
        "id": "0684L19iprSV"
      },
      "execution_count": 4,
      "outputs": []
    },
    {
      "cell_type": "code",
      "source": [
        "!git status"
      ],
      "metadata": {
        "id": "_XJ725Yhpyp7",
        "outputId": "c4e8b23b-7fb2-43e2-cace-57cf3c05efcc",
        "colab": {
          "base_uri": "https://localhost:8080/"
        }
      },
      "execution_count": 5,
      "outputs": [
        {
          "output_type": "stream",
          "name": "stdout",
          "text": [
            "On branch feature/read_data\n",
            "Your branch is up to date with 'origin/feature/read_data'.\n",
            "\n",
            "nothing to commit, working tree clean\n"
          ]
        }
      ]
    },
    {
      "cell_type": "code",
      "source": [
        "df = pd.read_json(\"train.json\")\n",
        "df.head(5)"
      ],
      "metadata": {
        "id": "HpY_V88Bp17E",
        "outputId": "e0ad1c5f-9381-4831-c2be-ec93ee51da75",
        "colab": {
          "base_uri": "https://localhost:8080/",
          "height": 660
        }
      },
      "execution_count": 7,
      "outputs": [
        {
          "output_type": "execute_result",
          "data": {
            "text/plain": [
              "    bathrooms  bedrooms                       building_id  \\\n",
              "4         1.0         1  8579a0b0d54db803821a35a4a615e97a   \n",
              "6         1.0         2  b8e75fc949a6cd8225b455648a951712   \n",
              "9         1.0         2  cd759a988b8f23924b5a2058d5ab2b49   \n",
              "10        1.5         3  53a5b119ba8f7b61d4e010512e0dfc85   \n",
              "15        1.0         0  bfb9405149bfff42a92980b594c28234   \n",
              "\n",
              "                created                                        description  \\\n",
              "4   2016-06-16 05:55:27  Spacious 1 Bedroom 1 Bathroom in Williamsburg!...   \n",
              "6   2016-06-01 05:44:33  BRAND NEW GUT RENOVATED TRUE 2 BEDROOMFind you...   \n",
              "9   2016-06-14 15:19:59  **FLEX 2 BEDROOM WITH FULL PRESSURIZED WALL**L...   \n",
              "10  2016-06-24 07:54:24  A Brand New 3 Bedroom 1.5 bath ApartmentEnjoy ...   \n",
              "15  2016-06-28 03:50:23  Over-sized Studio w abundant closets. Availabl...   \n",
              "\n",
              "        display_address                                           features  \\\n",
              "4   145 Borinquen Place  [Dining Room, Pre-War, Laundry in Building, Di...   \n",
              "6             East 44th  [Doorman, Elevator, Laundry in Building, Dishw...   \n",
              "9      East 56th Street  [Doorman, Elevator, Laundry in Building, Laund...   \n",
              "10  Metropolitan Avenue                                                 []   \n",
              "15     East 34th Street  [Doorman, Elevator, Fitness Center, Laundry in...   \n",
              "\n",
              "    latitude  listing_id  longitude                        manager_id  \\\n",
              "4    40.7108     7170325   -73.9539  a10db4590843d78c784171a107bdacb4   \n",
              "6    40.7513     7092344   -73.9722  955db33477af4f40004820b4aed804a0   \n",
              "9    40.7575     7158677   -73.9625  c8b10a317b766204f08e613cef4ce7a0   \n",
              "10   40.7145     7211212   -73.9425  5ba989232d0489da1b5f2c45f6688adc   \n",
              "15   40.7439     7225292   -73.9743  2c3b41f588fbb5234d8a1e885a436cfa   \n",
              "\n",
              "                                               photos  price  \\\n",
              "4   [https://photos.renthop.com/2/7170325_3bb5ac84...   2400   \n",
              "6   [https://photos.renthop.com/2/7092344_7663c19a...   3800   \n",
              "9   [https://photos.renthop.com/2/7158677_c897a134...   3495   \n",
              "10  [https://photos.renthop.com/2/7211212_1ed4542e...   3000   \n",
              "15  [https://photos.renthop.com/2/7225292_901f1984...   2795   \n",
              "\n",
              "             street_address interest_level  \n",
              "4       145 Borinquen Place         medium  \n",
              "6             230 East 44th            low  \n",
              "9      405 East 56th Street         medium  \n",
              "10  792 Metropolitan Avenue         medium  \n",
              "15     340 East 34th Street            low  "
            ],
            "text/html": [
              "\n",
              "  <div id=\"df-927794c2-f6a1-423e-a922-52b02e3f1b5e\" class=\"colab-df-container\">\n",
              "    <div>\n",
              "<style scoped>\n",
              "    .dataframe tbody tr th:only-of-type {\n",
              "        vertical-align: middle;\n",
              "    }\n",
              "\n",
              "    .dataframe tbody tr th {\n",
              "        vertical-align: top;\n",
              "    }\n",
              "\n",
              "    .dataframe thead th {\n",
              "        text-align: right;\n",
              "    }\n",
              "</style>\n",
              "<table border=\"1\" class=\"dataframe\">\n",
              "  <thead>\n",
              "    <tr style=\"text-align: right;\">\n",
              "      <th></th>\n",
              "      <th>bathrooms</th>\n",
              "      <th>bedrooms</th>\n",
              "      <th>building_id</th>\n",
              "      <th>created</th>\n",
              "      <th>description</th>\n",
              "      <th>display_address</th>\n",
              "      <th>features</th>\n",
              "      <th>latitude</th>\n",
              "      <th>listing_id</th>\n",
              "      <th>longitude</th>\n",
              "      <th>manager_id</th>\n",
              "      <th>photos</th>\n",
              "      <th>price</th>\n",
              "      <th>street_address</th>\n",
              "      <th>interest_level</th>\n",
              "    </tr>\n",
              "  </thead>\n",
              "  <tbody>\n",
              "    <tr>\n",
              "      <th>4</th>\n",
              "      <td>1.0</td>\n",
              "      <td>1</td>\n",
              "      <td>8579a0b0d54db803821a35a4a615e97a</td>\n",
              "      <td>2016-06-16 05:55:27</td>\n",
              "      <td>Spacious 1 Bedroom 1 Bathroom in Williamsburg!...</td>\n",
              "      <td>145 Borinquen Place</td>\n",
              "      <td>[Dining Room, Pre-War, Laundry in Building, Di...</td>\n",
              "      <td>40.7108</td>\n",
              "      <td>7170325</td>\n",
              "      <td>-73.9539</td>\n",
              "      <td>a10db4590843d78c784171a107bdacb4</td>\n",
              "      <td>[https://photos.renthop.com/2/7170325_3bb5ac84...</td>\n",
              "      <td>2400</td>\n",
              "      <td>145 Borinquen Place</td>\n",
              "      <td>medium</td>\n",
              "    </tr>\n",
              "    <tr>\n",
              "      <th>6</th>\n",
              "      <td>1.0</td>\n",
              "      <td>2</td>\n",
              "      <td>b8e75fc949a6cd8225b455648a951712</td>\n",
              "      <td>2016-06-01 05:44:33</td>\n",
              "      <td>BRAND NEW GUT RENOVATED TRUE 2 BEDROOMFind you...</td>\n",
              "      <td>East 44th</td>\n",
              "      <td>[Doorman, Elevator, Laundry in Building, Dishw...</td>\n",
              "      <td>40.7513</td>\n",
              "      <td>7092344</td>\n",
              "      <td>-73.9722</td>\n",
              "      <td>955db33477af4f40004820b4aed804a0</td>\n",
              "      <td>[https://photos.renthop.com/2/7092344_7663c19a...</td>\n",
              "      <td>3800</td>\n",
              "      <td>230 East 44th</td>\n",
              "      <td>low</td>\n",
              "    </tr>\n",
              "    <tr>\n",
              "      <th>9</th>\n",
              "      <td>1.0</td>\n",
              "      <td>2</td>\n",
              "      <td>cd759a988b8f23924b5a2058d5ab2b49</td>\n",
              "      <td>2016-06-14 15:19:59</td>\n",
              "      <td>**FLEX 2 BEDROOM WITH FULL PRESSURIZED WALL**L...</td>\n",
              "      <td>East 56th Street</td>\n",
              "      <td>[Doorman, Elevator, Laundry in Building, Laund...</td>\n",
              "      <td>40.7575</td>\n",
              "      <td>7158677</td>\n",
              "      <td>-73.9625</td>\n",
              "      <td>c8b10a317b766204f08e613cef4ce7a0</td>\n",
              "      <td>[https://photos.renthop.com/2/7158677_c897a134...</td>\n",
              "      <td>3495</td>\n",
              "      <td>405 East 56th Street</td>\n",
              "      <td>medium</td>\n",
              "    </tr>\n",
              "    <tr>\n",
              "      <th>10</th>\n",
              "      <td>1.5</td>\n",
              "      <td>3</td>\n",
              "      <td>53a5b119ba8f7b61d4e010512e0dfc85</td>\n",
              "      <td>2016-06-24 07:54:24</td>\n",
              "      <td>A Brand New 3 Bedroom 1.5 bath ApartmentEnjoy ...</td>\n",
              "      <td>Metropolitan Avenue</td>\n",
              "      <td>[]</td>\n",
              "      <td>40.7145</td>\n",
              "      <td>7211212</td>\n",
              "      <td>-73.9425</td>\n",
              "      <td>5ba989232d0489da1b5f2c45f6688adc</td>\n",
              "      <td>[https://photos.renthop.com/2/7211212_1ed4542e...</td>\n",
              "      <td>3000</td>\n",
              "      <td>792 Metropolitan Avenue</td>\n",
              "      <td>medium</td>\n",
              "    </tr>\n",
              "    <tr>\n",
              "      <th>15</th>\n",
              "      <td>1.0</td>\n",
              "      <td>0</td>\n",
              "      <td>bfb9405149bfff42a92980b594c28234</td>\n",
              "      <td>2016-06-28 03:50:23</td>\n",
              "      <td>Over-sized Studio w abundant closets. Availabl...</td>\n",
              "      <td>East 34th Street</td>\n",
              "      <td>[Doorman, Elevator, Fitness Center, Laundry in...</td>\n",
              "      <td>40.7439</td>\n",
              "      <td>7225292</td>\n",
              "      <td>-73.9743</td>\n",
              "      <td>2c3b41f588fbb5234d8a1e885a436cfa</td>\n",
              "      <td>[https://photos.renthop.com/2/7225292_901f1984...</td>\n",
              "      <td>2795</td>\n",
              "      <td>340 East 34th Street</td>\n",
              "      <td>low</td>\n",
              "    </tr>\n",
              "  </tbody>\n",
              "</table>\n",
              "</div>\n",
              "    <div class=\"colab-df-buttons\">\n",
              "\n",
              "  <div class=\"colab-df-container\">\n",
              "    <button class=\"colab-df-convert\" onclick=\"convertToInteractive('df-927794c2-f6a1-423e-a922-52b02e3f1b5e')\"\n",
              "            title=\"Convert this dataframe to an interactive table.\"\n",
              "            style=\"display:none;\">\n",
              "\n",
              "  <svg xmlns=\"http://www.w3.org/2000/svg\" height=\"24px\" viewBox=\"0 -960 960 960\">\n",
              "    <path d=\"M120-120v-720h720v720H120Zm60-500h600v-160H180v160Zm220 220h160v-160H400v160Zm0 220h160v-160H400v160ZM180-400h160v-160H180v160Zm440 0h160v-160H620v160ZM180-180h160v-160H180v160Zm440 0h160v-160H620v160Z\"/>\n",
              "  </svg>\n",
              "    </button>\n",
              "\n",
              "  <style>\n",
              "    .colab-df-container {\n",
              "      display:flex;\n",
              "      gap: 12px;\n",
              "    }\n",
              "\n",
              "    .colab-df-convert {\n",
              "      background-color: #E8F0FE;\n",
              "      border: none;\n",
              "      border-radius: 50%;\n",
              "      cursor: pointer;\n",
              "      display: none;\n",
              "      fill: #1967D2;\n",
              "      height: 32px;\n",
              "      padding: 0 0 0 0;\n",
              "      width: 32px;\n",
              "    }\n",
              "\n",
              "    .colab-df-convert:hover {\n",
              "      background-color: #E2EBFA;\n",
              "      box-shadow: 0px 1px 2px rgba(60, 64, 67, 0.3), 0px 1px 3px 1px rgba(60, 64, 67, 0.15);\n",
              "      fill: #174EA6;\n",
              "    }\n",
              "\n",
              "    .colab-df-buttons div {\n",
              "      margin-bottom: 4px;\n",
              "    }\n",
              "\n",
              "    [theme=dark] .colab-df-convert {\n",
              "      background-color: #3B4455;\n",
              "      fill: #D2E3FC;\n",
              "    }\n",
              "\n",
              "    [theme=dark] .colab-df-convert:hover {\n",
              "      background-color: #434B5C;\n",
              "      box-shadow: 0px 1px 3px 1px rgba(0, 0, 0, 0.15);\n",
              "      filter: drop-shadow(0px 1px 2px rgba(0, 0, 0, 0.3));\n",
              "      fill: #FFFFFF;\n",
              "    }\n",
              "  </style>\n",
              "\n",
              "    <script>\n",
              "      const buttonEl =\n",
              "        document.querySelector('#df-927794c2-f6a1-423e-a922-52b02e3f1b5e button.colab-df-convert');\n",
              "      buttonEl.style.display =\n",
              "        google.colab.kernel.accessAllowed ? 'block' : 'none';\n",
              "\n",
              "      async function convertToInteractive(key) {\n",
              "        const element = document.querySelector('#df-927794c2-f6a1-423e-a922-52b02e3f1b5e');\n",
              "        const dataTable =\n",
              "          await google.colab.kernel.invokeFunction('convertToInteractive',\n",
              "                                                    [key], {});\n",
              "        if (!dataTable) return;\n",
              "\n",
              "        const docLinkHtml = 'Like what you see? Visit the ' +\n",
              "          '<a target=\"_blank\" href=https://colab.research.google.com/notebooks/data_table.ipynb>data table notebook</a>'\n",
              "          + ' to learn more about interactive tables.';\n",
              "        element.innerHTML = '';\n",
              "        dataTable['output_type'] = 'display_data';\n",
              "        await google.colab.output.renderOutput(dataTable, element);\n",
              "        const docLink = document.createElement('div');\n",
              "        docLink.innerHTML = docLinkHtml;\n",
              "        element.appendChild(docLink);\n",
              "      }\n",
              "    </script>\n",
              "  </div>\n",
              "\n",
              "\n",
              "<div id=\"df-00f4c637-c4d5-4fe4-a5a8-a6479722433d\">\n",
              "  <button class=\"colab-df-quickchart\" onclick=\"quickchart('df-00f4c637-c4d5-4fe4-a5a8-a6479722433d')\"\n",
              "            title=\"Suggest charts\"\n",
              "            style=\"display:none;\">\n",
              "\n",
              "<svg xmlns=\"http://www.w3.org/2000/svg\" height=\"24px\"viewBox=\"0 0 24 24\"\n",
              "     width=\"24px\">\n",
              "    <g>\n",
              "        <path d=\"M19 3H5c-1.1 0-2 .9-2 2v14c0 1.1.9 2 2 2h14c1.1 0 2-.9 2-2V5c0-1.1-.9-2-2-2zM9 17H7v-7h2v7zm4 0h-2V7h2v10zm4 0h-2v-4h2v4z\"/>\n",
              "    </g>\n",
              "</svg>\n",
              "  </button>\n",
              "\n",
              "<style>\n",
              "  .colab-df-quickchart {\n",
              "      --bg-color: #E8F0FE;\n",
              "      --fill-color: #1967D2;\n",
              "      --hover-bg-color: #E2EBFA;\n",
              "      --hover-fill-color: #174EA6;\n",
              "      --disabled-fill-color: #AAA;\n",
              "      --disabled-bg-color: #DDD;\n",
              "  }\n",
              "\n",
              "  [theme=dark] .colab-df-quickchart {\n",
              "      --bg-color: #3B4455;\n",
              "      --fill-color: #D2E3FC;\n",
              "      --hover-bg-color: #434B5C;\n",
              "      --hover-fill-color: #FFFFFF;\n",
              "      --disabled-bg-color: #3B4455;\n",
              "      --disabled-fill-color: #666;\n",
              "  }\n",
              "\n",
              "  .colab-df-quickchart {\n",
              "    background-color: var(--bg-color);\n",
              "    border: none;\n",
              "    border-radius: 50%;\n",
              "    cursor: pointer;\n",
              "    display: none;\n",
              "    fill: var(--fill-color);\n",
              "    height: 32px;\n",
              "    padding: 0;\n",
              "    width: 32px;\n",
              "  }\n",
              "\n",
              "  .colab-df-quickchart:hover {\n",
              "    background-color: var(--hover-bg-color);\n",
              "    box-shadow: 0 1px 2px rgba(60, 64, 67, 0.3), 0 1px 3px 1px rgba(60, 64, 67, 0.15);\n",
              "    fill: var(--button-hover-fill-color);\n",
              "  }\n",
              "\n",
              "  .colab-df-quickchart-complete:disabled,\n",
              "  .colab-df-quickchart-complete:disabled:hover {\n",
              "    background-color: var(--disabled-bg-color);\n",
              "    fill: var(--disabled-fill-color);\n",
              "    box-shadow: none;\n",
              "  }\n",
              "\n",
              "  .colab-df-spinner {\n",
              "    border: 2px solid var(--fill-color);\n",
              "    border-color: transparent;\n",
              "    border-bottom-color: var(--fill-color);\n",
              "    animation:\n",
              "      spin 1s steps(1) infinite;\n",
              "  }\n",
              "\n",
              "  @keyframes spin {\n",
              "    0% {\n",
              "      border-color: transparent;\n",
              "      border-bottom-color: var(--fill-color);\n",
              "      border-left-color: var(--fill-color);\n",
              "    }\n",
              "    20% {\n",
              "      border-color: transparent;\n",
              "      border-left-color: var(--fill-color);\n",
              "      border-top-color: var(--fill-color);\n",
              "    }\n",
              "    30% {\n",
              "      border-color: transparent;\n",
              "      border-left-color: var(--fill-color);\n",
              "      border-top-color: var(--fill-color);\n",
              "      border-right-color: var(--fill-color);\n",
              "    }\n",
              "    40% {\n",
              "      border-color: transparent;\n",
              "      border-right-color: var(--fill-color);\n",
              "      border-top-color: var(--fill-color);\n",
              "    }\n",
              "    60% {\n",
              "      border-color: transparent;\n",
              "      border-right-color: var(--fill-color);\n",
              "    }\n",
              "    80% {\n",
              "      border-color: transparent;\n",
              "      border-right-color: var(--fill-color);\n",
              "      border-bottom-color: var(--fill-color);\n",
              "    }\n",
              "    90% {\n",
              "      border-color: transparent;\n",
              "      border-bottom-color: var(--fill-color);\n",
              "    }\n",
              "  }\n",
              "</style>\n",
              "\n",
              "  <script>\n",
              "    async function quickchart(key) {\n",
              "      const quickchartButtonEl =\n",
              "        document.querySelector('#' + key + ' button');\n",
              "      quickchartButtonEl.disabled = true;  // To prevent multiple clicks.\n",
              "      quickchartButtonEl.classList.add('colab-df-spinner');\n",
              "      try {\n",
              "        const charts = await google.colab.kernel.invokeFunction(\n",
              "            'suggestCharts', [key], {});\n",
              "      } catch (error) {\n",
              "        console.error('Error during call to suggestCharts:', error);\n",
              "      }\n",
              "      quickchartButtonEl.classList.remove('colab-df-spinner');\n",
              "      quickchartButtonEl.classList.add('colab-df-quickchart-complete');\n",
              "    }\n",
              "    (() => {\n",
              "      let quickchartButtonEl =\n",
              "        document.querySelector('#df-00f4c637-c4d5-4fe4-a5a8-a6479722433d button');\n",
              "      quickchartButtonEl.style.display =\n",
              "        google.colab.kernel.accessAllowed ? 'block' : 'none';\n",
              "    })();\n",
              "  </script>\n",
              "</div>\n",
              "\n",
              "    </div>\n",
              "  </div>\n"
            ],
            "application/vnd.google.colaboratory.intrinsic+json": {
              "type": "dataframe",
              "variable_name": "df",
              "repr_error": "0"
            }
          },
          "metadata": {},
          "execution_count": 7
        }
      ]
    },
    {
      "cell_type": "code",
      "source": [
        "!git status"
      ],
      "metadata": {
        "id": "M0OURVD-Lb5W",
        "outputId": "10a30b71-b861-4366-b620-60eac62329c7",
        "colab": {
          "base_uri": "https://localhost:8080/"
        }
      },
      "execution_count": 8,
      "outputs": [
        {
          "output_type": "stream",
          "name": "stdout",
          "text": [
            "On branch feature/read_data\n",
            "Your branch is up to date with 'origin/feature/read_data'.\n",
            "\n",
            "nothing to commit, working tree clean\n"
          ]
        }
      ]
    }
  ]
}