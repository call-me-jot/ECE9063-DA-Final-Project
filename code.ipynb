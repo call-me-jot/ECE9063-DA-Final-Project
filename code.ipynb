{
  "nbformat": 4,
  "nbformat_minor": 0,
  "metadata": {
    "colab": {
      "provenance": [],
      "include_colab_link": true
    },
    "kernelspec": {
      "name": "python3",
      "display_name": "Python 3"
    },
    "language_info": {
      "name": "python"
    }
  },
  "cells": [
    {
      "cell_type": "markdown",
      "metadata": {
        "id": "view-in-github",
        "colab_type": "text"
      },
      "source": [
        "<a href=\"https://colab.research.google.com/github/call-me-jot/ECE9063-DA-Final-Project/blob/feature%2Fread_data/code.ipynb\" target=\"_parent\"><img src=\"https://colab.research.google.com/assets/colab-badge.svg\" alt=\"Open In Colab\"/></a>"
      ]
    },
    {
      "cell_type": "code",
      "execution_count": null,
      "metadata": {
        "colab": {
          "base_uri": "https://localhost:8080/"
        },
        "id": "lqhsN-pKF0ba",
        "outputId": "1545d1d6-f6ee-4fb3-829f-d62e2f12d92d"
      },
      "outputs": [
        {
          "output_type": "stream",
          "name": "stdout",
          "text": [
            "Cloning into 'ECE9063-DA-Final-Project'...\n",
            "remote: Enumerating objects: 35, done.\u001b[K\n",
            "remote: Counting objects: 100% (35/35), done.\u001b[K\n",
            "remote: Compressing objects: 100% (33/33), done.\u001b[K\n",
            "remote: Total 35 (delta 13), reused 10 (delta 2), pack-reused 0 (from 0)\u001b[K\n",
            "Receiving objects: 100% (35/35), 20.06 MiB | 5.39 MiB/s, done.\n",
            "Resolving deltas: 100% (13/13), done.\n"
          ]
        }
      ],
      "source": [
        "!git clone https://github.com/call-me-jot/ECE9063-DA-Final-Project.git"
      ]
    },
    {
      "cell_type": "code",
      "source": [
        "%cd ECE9063-DA-Final-Project/"
      ],
      "metadata": {
        "colab": {
          "base_uri": "https://localhost:8080/"
        },
        "id": "RMq00pHBF_rL",
        "outputId": "7f998a7c-3236-45d0-c9fd-83eb530a5357"
      },
      "execution_count": 15,
      "outputs": [
        {
          "output_type": "stream",
          "name": "stdout",
          "text": [
            "[Errno 2] No such file or directory: 'ECE9063-DA-Final-Project/'\n",
            "/content/ECE9063-DA-Final-Project\n"
          ]
        }
      ]
    },
    {
      "cell_type": "code",
      "source": [
        "!git checkout feature/read_data"
      ],
      "metadata": {
        "colab": {
          "base_uri": "https://localhost:8080/"
        },
        "id": "1FJhiVK5GlTK",
        "outputId": "3def0f61-81a3-4c1d-bbe0-6e5cd34513b4"
      },
      "execution_count": 16,
      "outputs": [
        {
          "output_type": "stream",
          "name": "stdout",
          "text": [
            "Already on 'feature/read_data'\n"
          ]
        }
      ]
    },
    {
      "cell_type": "code",
      "source": [
        "!git pull origin feature/read_data"
      ],
      "metadata": {
        "id": "py7tjymVpMkV",
        "outputId": "75f41440-ce92-4bc4-8417-63ef997c37da",
        "colab": {
          "base_uri": "https://localhost:8080/"
        }
      },
      "execution_count": 17,
      "outputs": [
        {
          "output_type": "stream",
          "name": "stdout",
          "text": [
            "From https://github.com/call-me-jot/ECE9063-DA-Final-Project\n",
            " * branch            feature/read_data -> FETCH_HEAD\n",
            "fatal: Not possible to fast-forward, aborting.\n"
          ]
        }
      ]
    },
    {
      "cell_type": "code",
      "source": [
        "import pandas as pd\n",
        "import numpy as np\n",
        "import matplotlib.pyplot as plt"
      ],
      "metadata": {
        "id": "0684L19iprSV"
      },
      "execution_count": 18,
      "outputs": []
    },
    {
      "cell_type": "code",
      "source": [
        "!git status"
      ],
      "metadata": {
        "id": "_XJ725Yhpyp7",
        "outputId": "8694286f-9664-41eb-8e94-9a0c2522754d",
        "colab": {
          "base_uri": "https://localhost:8080/"
        }
      },
      "execution_count": 19,
      "outputs": [
        {
          "output_type": "stream",
          "name": "stdout",
          "text": [
            "On branch feature/read_data\n",
            "nothing to commit, working tree clean\n"
          ]
        }
      ]
    },
    {
      "cell_type": "code",
      "source": [],
      "metadata": {
        "id": "HpY_V88Bp17E"
      },
      "execution_count": null,
      "outputs": []
    }
  ]
}